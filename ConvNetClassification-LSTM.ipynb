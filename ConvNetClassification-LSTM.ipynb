{
 "cells": [
  {
   "cell_type": "code",
   "execution_count": 24,
   "metadata": {
    "collapsed": false
   },
   "outputs": [],
   "source": [
    "import os\n",
    "import scipy.io\n",
    "import numpy as np\n",
    "import statistics, math\n",
    "import matplotlib.pyplot as plt\n",
    "from libs import util_matlab as umatlab\n",
    "from libs import datasets, dataset_utils, utils\n",
    "import tensorflow as tf\n",
    "import datetime\n",
    "import time\n",
    "from tensorflow.python.ops import rnn, rnn_cell"
   ]
  },
  {
   "cell_type": "code",
   "execution_count": 2,
   "metadata": {
    "collapsed": false
   },
   "outputs": [],
   "source": [
    "data_dir=\"/Users/alfonso/matlab/IndirectAcquisition/keras/dataforMarius/export\"\n",
    "files = [os.path.join(data_dir, file_i) for file_i in os.listdir(data_dir) if file_i.endswith('.mat')]"
   ]
  },
  {
   "cell_type": "code",
   "execution_count": 3,
   "metadata": {
    "collapsed": false
   },
   "outputs": [],
   "source": [
    "# We'll tell matplotlib to inline any drawn figures like so:\n",
    "%matplotlib inline\n",
    "plt.style.use('ggplot')"
   ]
  },
  {
   "cell_type": "code",
   "execution_count": 41,
   "metadata": {
    "collapsed": false
   },
   "outputs": [
    {
     "name": "stdout",
     "output_type": "stream",
     "text": [
      "energyBands_sr: 245.14565264497202\n",
      "target_sr: 245.14565264497202\n"
     ]
    },
    {
     "data": {
      "text/plain": [
       "12"
      ]
     },
     "execution_count": 41,
     "metadata": {},
     "output_type": "execute_result"
    }
   ],
   "source": [
    "matlabStruct=umatlab.loadmat(files[1]).get('data')\n",
    "energyBand=matlabStruct.get('energyBand')\n",
    "energyBand=(energyBand /120 )+1 #normalize [0-1]\n",
    "residualEnergyBand=matlabStruct.get('residualEnergyBand')\n",
    "residualEnergyBand=(residualEnergyBand /120 )+1 #normalize [0-1]\n",
    "\n",
    "totalSecs=matlabStruct.get('waveIn').shape[0]/matlabStruct.get('audioSR')\n",
    "energyBands_sr=energyBand.shape[1]/totalSecs #This is around 100Hz-10ms\n",
    "print('energyBands_sr:', energyBands_sr)\n",
    "controlNames=matlabStruct.get('controlNames')\n",
    "controlData=matlabStruct.get('controlData')\n",
    "string=controlData[0,:]\n",
    "print('target_sr:', string.shape[0]/totalSecs)\n",
    "#pitch=controlData[6,:]/1500\n",
    "    \n",
    "# We want 500? milliseconds of audio in our window\n",
    "winLSecs=0.05\n",
    "windowSize=int((winLSecs*energyBands_sr)//2*2)\n",
    "# And we'll move our window by 250 ms at a time\n",
    "hopSize=windowSize//2\n",
    "n_hops = (energyBand.shape[1]) // hopSize\n",
    "windowSize"
   ]
  },
  {
   "cell_type": "code",
   "execution_count": 5,
   "metadata": {
    "collapsed": false,
    "scrolled": true
   },
   "outputs": [
    {
     "data": {
      "text/plain": [
       "[<matplotlib.lines.Line2D at 0x10941b470>]"
      ]
     },
     "execution_count": 5,
     "metadata": {},
     "output_type": "execute_result"
    },
    {
     "data": {
      "image/png": "[encoded data removed]",
      "text/plain": [
       "<matplotlib.figure.Figure at 0x11d187e80>"
      ]
     },
     "metadata": {},
     "output_type": "display_data"
    }
   ],
   "source": [
    "plt.plot(string)"
   ]
  },
  {
   "cell_type": "code",
   "execution_count": 35,
   "metadata": {
    "collapsed": false
   },
   "outputs": [
    {
     "name": "stdout",
     "output_type": "stream",
     "text": [
      "(94605, 40, 12, 1) (94605, 12)\n"
     ]
    }
   ],
   "source": [
    "joinWithPitch = 0\n",
    "doAvgString = 1  #it must be avgString to do one-hot encoding of the output.\n",
    "\n",
    "Xs = []\n",
    "ys = []\n",
    "\n",
    "# Let's start with the music files\n",
    "for filename in files:\n",
    "    #print(filename)\n",
    "    matlabStruct=umatlab.loadmat(filename).get('data')\n",
    "    energyBand=(matlabStruct.get('energyBand')/120)+1\n",
    "    residualEnergyBand=matlabStruct.get('residualEnergyBand')\n",
    "    residualEnergyBand=(residualEnergyBand /120 )+1 #normalize [0-1]\n",
    "    controlData=matlabStruct.get('controlData')\n",
    "    controlNames=matlabStruct.get('controlNames')\n",
    "    string=controlData[0,:]\n",
    "    pitch=controlData[6,:]/1500\n",
    "    #wave=matlabStruct.get('wave')\n",
    "    target=string\n",
    "    \n",
    "    n_hops = (energyBand.shape[1]) // hopSize\n",
    "    \n",
    "    #print(n_frames_per_second, n_frames, frame_hops, n_hops)\n",
    "    n_hops=int(n_hops)-1\n",
    "    for hop_i in range(n_hops):\n",
    "        # Creating our sliding window\n",
    "        frames = energyBand[:,(hop_i * hopSize):(hop_i * hopSize + windowSize)]\n",
    "        #frames= np.vstack((frames, residualEnergyBand[:,(hop_i * hopSize):(hop_i * hopSize + windowSize)]))\n",
    "        if (joinWithPitch):\n",
    "            #frame=np.append(frame, pitch[iframe])\n",
    "            pitchframe=pitch[(hop_i * hopSize):(hop_i * hopSize + windowSize)]\n",
    "            frames=np.vstack([frames, pitchframe])\n",
    "        if(math.isnan(max(frames[:,1]))==False):\n",
    "            if doAvgString:\n",
    "                avgString=round(statistics.median(string[(hop_i * hopSize):(hop_i * hopSize + windowSize)]))\n",
    "                # Store them with a new 3rd axis and as a logarithmic scale\n",
    "                # We'll ensure that we aren't taking a log of 0 just by adding\n",
    "                # a small value, also known as epsilon.\n",
    "\n",
    "                if (avgString-string[hop_i * hopSize]==0): #take only windows in the same string\n",
    "                    Xs.append(frames[..., np.newaxis])\n",
    "                        # And then store the label \n",
    "                    ys.append(int(avgString))\n",
    "            else:\n",
    "                Xs.append(frames[..., np.newaxis])\n",
    "                ys.append(target[(hop_i * hopSize):(hop_i * hopSize + windowSize)])\n",
    "        #else:\n",
    "            #print('warning: nan in frame ', hop_i)\n",
    "Xs = np.array(Xs)\n",
    "ys = np.array(ys)\n",
    "print(Xs.shape, ys.shape)"
   ]
  },
  {
   "cell_type": "code",
   "execution_count": 36,
   "metadata": {
    "collapsed": false
   },
   "outputs": [],
   "source": [
    "n_observations, feature_size, time_context, n_channels = Xs.shape\n",
    "if joinWithPitch:\n",
    "    feature_size = feature_size -1"
   ]
  },
  {
   "cell_type": "code",
   "execution_count": 37,
   "metadata": {
    "collapsed": false
   },
   "outputs": [
    {
     "data": {
      "text/plain": [
       "<matplotlib.text.Text at 0x1211831d0>"
      ]
     },
     "execution_count": 37,
     "metadata": {},
     "output_type": "execute_result"
    }
   ],
   "source": [
    "plt.imshow(Xs[5][..., 0])\n",
    "plt.title('label:{}'.format(ys[0]))"
   ]
  },
  {
   "cell_type": "code",
   "execution_count": 38,
   "metadata": {
    "collapsed": false
   },
   "outputs": [
    {
     "ename": "IndexError",
     "evalue": "arrays used as indices must be of integer (or boolean) type",
     "output_type": "error",
     "traceback": [
      "\u001b[0;31m---------------------------------------------------------------------------\u001b[0m",
      "\u001b[0;31mIndexError\u001b[0m                                Traceback (most recent call last)",
      "\u001b[0;32m<ipython-input-38-2eb31c637d4e>\u001b[0m in \u001b[0;36m<module>\u001b[0;34m()\u001b[0m\n\u001b[1;32m      1\u001b[0m \u001b[0mn_classes\u001b[0m\u001b[0;34m=\u001b[0m\u001b[0;36m5\u001b[0m\u001b[0;34m\u001b[0m\u001b[0m\n\u001b[0;32m----> 2\u001b[0;31m \u001b[0mds\u001b[0m \u001b[0;34m=\u001b[0m \u001b[0mdatasets\u001b[0m\u001b[0;34m.\u001b[0m\u001b[0mDataset\u001b[0m\u001b[0;34m(\u001b[0m\u001b[0mXs\u001b[0m\u001b[0;34m=\u001b[0m\u001b[0mXs\u001b[0m\u001b[0;34m,\u001b[0m \u001b[0mys\u001b[0m\u001b[0;34m=\u001b[0m\u001b[0mys\u001b[0m\u001b[0;34m,\u001b[0m \u001b[0msplit\u001b[0m\u001b[0;34m=\u001b[0m\u001b[0;34m[\u001b[0m\u001b[0;36m0.8\u001b[0m\u001b[0;34m,\u001b[0m \u001b[0;36m0.1\u001b[0m\u001b[0;34m,\u001b[0m \u001b[0;36m0.1\u001b[0m\u001b[0;34m]\u001b[0m\u001b[0;34m,\u001b[0m \u001b[0mone_hot\u001b[0m\u001b[0;34m=\u001b[0m\u001b[0;32mTrue\u001b[0m\u001b[0;34m,\u001b[0m \u001b[0mn_classes\u001b[0m\u001b[0;34m=\u001b[0m\u001b[0mn_classes\u001b[0m\u001b[0;34m)\u001b[0m\u001b[0;34m\u001b[0m\u001b[0m\n\u001b[0m",
      "\u001b[0;32m/Users/alfonso/code/violinDemos/TFModels/libs/dataset_utils.py\u001b[0m in \u001b[0;36m__init__\u001b[0;34m(self, Xs, ys, split, one_hot, n_classes)\u001b[0m\n\u001b[1;32m    406\u001b[0m         \u001b[0mself\u001b[0m\u001b[0;34m.\u001b[0m\u001b[0mall_inputs\u001b[0m \u001b[0;34m=\u001b[0m \u001b[0mself\u001b[0m\u001b[0;34m.\u001b[0m\u001b[0mall_inputs\u001b[0m\u001b[0;34m[\u001b[0m\u001b[0mrand_idxs\u001b[0m\u001b[0;34m,\u001b[0m \u001b[0;34m...\u001b[0m\u001b[0;34m]\u001b[0m\u001b[0;34m\u001b[0m\u001b[0m\n\u001b[1;32m    407\u001b[0m         \u001b[0;32mif\u001b[0m \u001b[0mys\u001b[0m \u001b[0;32mis\u001b[0m \u001b[0;32mnot\u001b[0m \u001b[0;32mNone\u001b[0m\u001b[0;34m:\u001b[0m\u001b[0;34m\u001b[0m\u001b[0m\n\u001b[0;32m--> 408\u001b[0;31m             \u001b[0mself\u001b[0m\u001b[0;34m.\u001b[0m\u001b[0mall_labels\u001b[0m \u001b[0;34m=\u001b[0m \u001b[0mys\u001b[0m \u001b[0;32mif\u001b[0m \u001b[0;32mnot\u001b[0m \u001b[0mone_hot\u001b[0m \u001b[0;32melse\u001b[0m \u001b[0mdense_to_one_hot\u001b[0m\u001b[0;34m(\u001b[0m\u001b[0mys\u001b[0m\u001b[0;34m,\u001b[0m\u001b[0mn_classes\u001b[0m\u001b[0;34m)\u001b[0m\u001b[0;34m\u001b[0m\u001b[0m\n\u001b[0m\u001b[1;32m    409\u001b[0m             \u001b[0mself\u001b[0m\u001b[0;34m.\u001b[0m\u001b[0mall_labels\u001b[0m \u001b[0;34m=\u001b[0m \u001b[0mself\u001b[0m\u001b[0;34m.\u001b[0m\u001b[0mall_labels\u001b[0m\u001b[0;34m[\u001b[0m\u001b[0mrand_idxs\u001b[0m\u001b[0;34m,\u001b[0m \u001b[0;34m...\u001b[0m\u001b[0;34m]\u001b[0m\u001b[0;34m\u001b[0m\u001b[0m\n\u001b[1;32m    410\u001b[0m         \u001b[0;32melse\u001b[0m\u001b[0;34m:\u001b[0m\u001b[0;34m\u001b[0m\u001b[0m\n",
      "\u001b[0;32m/Users/alfonso/code/violinDemos/TFModels/libs/dataset_utils.py\u001b[0m in \u001b[0;36mdense_to_one_hot\u001b[0;34m(labels, n_classes)\u001b[0m\n\u001b[1;32m    270\u001b[0m         \u001b[0mOne\u001b[0m \u001b[0mhot\u001b[0m \u001b[0mrepresentation\u001b[0m \u001b[0mof\u001b[0m \u001b[0minput\u001b[0m\u001b[0;34m.\u001b[0m\u001b[0;34m\u001b[0m\u001b[0m\n\u001b[1;32m    271\u001b[0m     \"\"\"\n\u001b[0;32m--> 272\u001b[0;31m     \u001b[0;32mreturn\u001b[0m \u001b[0mnp\u001b[0m\u001b[0;34m.\u001b[0m\u001b[0meye\u001b[0m\u001b[0;34m(\u001b[0m\u001b[0mn_classes\u001b[0m\u001b[0;34m)\u001b[0m\u001b[0;34m.\u001b[0m\u001b[0mastype\u001b[0m\u001b[0;34m(\u001b[0m\u001b[0mnp\u001b[0m\u001b[0;34m.\u001b[0m\u001b[0mfloat32\u001b[0m\u001b[0;34m)\u001b[0m\u001b[0;34m[\u001b[0m\u001b[0mlabels\u001b[0m\u001b[0;34m]\u001b[0m\u001b[0;34m\u001b[0m\u001b[0m\n\u001b[0m\u001b[1;32m    273\u001b[0m \u001b[0;34m\u001b[0m\u001b[0m\n\u001b[1;32m    274\u001b[0m \u001b[0;34m\u001b[0m\u001b[0m\n",
      "\u001b[0;31mIndexError\u001b[0m: arrays used as indices must be of integer (or boolean) type"
     ]
    }
   ],
   "source": [
    "n_classes=5\n",
    "ds = datasets.Dataset(Xs=Xs, ys=ys, split=[0.8, 0.1, 0.1], one_hot=True, n_classes=n_classes)"
   ]
  },
  {
   "cell_type": "code",
   "execution_count": 10,
   "metadata": {
    "collapsed": false
   },
   "outputs": [
    {
     "name": "stdout",
     "output_type": "stream",
     "text": [
      "(100, 40, 12, 1) (100, 5)\n"
     ]
    }
   ],
   "source": [
    "Xs_i, ys_i = next(ds.train.next_batch())\n",
    "\n",
    "# Notice the shape this returns.  This will become the shape of our input and output of the network:\n",
    "print(Xs_i.shape, ys_i.shape)"
   ]
  },
  {
   "cell_type": "code",
   "execution_count": 11,
   "metadata": {
    "collapsed": false
   },
   "outputs": [
    {
     "data": {
      "text/plain": [
       "<matplotlib.text.Text at 0x12077e048>"
      ]
     },
     "execution_count": 11,
     "metadata": {},
     "output_type": "execute_result"
    },
    {
     "data": {
      "image/png": "[encoded data removed]",
      "text/plain": [
       "<matplotlib.figure.Figure at 0x1245c5780>"
      ]
     },
     "metadata": {},
     "output_type": "display_data"
    }
   ],
   "source": [
    "plt.imshow(Xs_i[0, :, :, 0])\n",
    "plt.title('label:{}'.format(ys_i[0,...]))"
   ]
  },
  {
   "cell_type": "markdown",
   "metadata": {},
   "source": [
    "Let's now create our deep convolutional network.  Start by first creating the convolutional layers.  Try different numbers of layers, different numbers of filters per layer, different activation functions, and varying the parameters to get the best training/validation score when training below.  Try first using a kernel size of `3` and a stride of `1`.  You can use the `utils.conv2d` function to help you create the convolution."
   ]
  },
  {
   "cell_type": "code",
   "execution_count": 12,
   "metadata": {
    "collapsed": false
   },
   "outputs": [
    {
     "name": "stdout",
     "output_type": "stream",
     "text": [
      "(100, 40, 12, 1)\n",
      "[None, 21, 12, 30]\n",
      "[None, 21, 7, 30]\n"
     ]
    }
   ],
   "source": [
    "print(Xs_i.shape)\n",
    "tf.reset_default_graph()\n",
    "n_bands=40\n",
    "# Create the input to the network.  This is a 4-dimensional tensor!\n",
    "# Recall that we are using sliding windows of our magnitudes (TODO):\n",
    "X = tf.placeholder(name='X', shape=(None,n_bands,Xs.shape[2],Xs.shape[3]), dtype=tf.float32)\n",
    "\n",
    "# Create the output to the network.  This is our one hot encoding of 2 possible values (TODO)!\n",
    "Y = tf.placeholder(name='Y', shape=(None,n_classes), dtype=tf.float32)\n",
    "\n",
    "if (joinWithPitch):\n",
    "    X_pitch = tf.placeholder(name='X_pitch', shape=(None,1), dtype=tf.float32)\n",
    "    \n",
    "# TODO:  Explore different numbers of layers, and sizes of the network\n",
    "#n_filters = [30, 30, 30, 30, 30] # 20, 20\n",
    "#filters_height = [2, 2, 2, 2, 3] #[feature_size, 1]\n",
    "#filters_width = [2, 2, 2, 2, 1] #[1, time_context]\n",
    "#filters_stride_h = [2, 2, 2, 2, 2]#[feature_size, 1]\n",
    "#filters_stride_w = [2, 2, 2, 2, 2] #[1, 1]\n",
    "\n",
    "n_filters = [30, 30] # 20, 20\n",
    "filters_height = [40/2, 1] #[feature_size, 1]\n",
    "filters_width = [1, windowSize/2] #[1, time_context]\n",
    "filters_stride_h = [1, 1]#[feature_size, 1]\n",
    "filters_stride_w = [1, 1] #[1, 1]\n",
    "padding='VALID'\n",
    "\n",
    "# Now let's loop over our n_filters and create the deep convolutional neural network\n",
    "H = X\n",
    "for layer_i, n_filters_i in enumerate(n_filters):\n",
    "    \n",
    "    # Let's use the helper function to create our connection to the next layer:\n",
    "    # TODO: explore changing the parameters here:\n",
    "    H, W = utils.conv2d(\n",
    "        H, n_filters_i, k_h=filters_height[layer_i], k_w=filters_width[layer_i],\n",
    "        d_h=filters_stride_h[layer_i], d_w=filters_stride_w[layer_i],\n",
    "        name=str(layer_i), padding=padding)\n",
    "    \n",
    "    # And use a nonlinearity\n",
    "    # TODO: explore changing the activation here:\n",
    "    H = tf.nn.softplus(H)\n",
    "    \n",
    "    # Just to check what's happening:\n",
    "    print(H.get_shape().as_list())"
   ]
  },
  {
   "cell_type": "code",
   "execution_count": 13,
   "metadata": {
    "collapsed": true
   },
   "outputs": [],
   "source": [
    "n_observations, n_inputs, seq_l, n_filters = H.get_shape().as_list()"
   ]
  },
  {
   "cell_type": "code",
   "execution_count": 14,
   "metadata": {
    "collapsed": false
   },
   "outputs": [
    {
     "name": "stdout",
     "output_type": "stream",
     "text": [
      "0: [None, 21, 7, 30]\n",
      "1: [7, None, 21, 30]\n",
      "2: [7, None, 630]\n",
      "3: [None, 630]\n",
      "4: (7,)\n"
     ]
    }
   ],
   "source": [
    "# Prepare output of convNet as input to LSTM\n",
    "[batch_size, n_inputs, time_seq, n_filters] = H.get_shape().as_list()\n",
    "print(\"0:\", [batch_size, n_inputs, time_seq, n_filters])\n",
    "doLSTM = 1\n",
    "if doLSTM:\n",
    "    ##First reshape output of ConvNet to join seq.Length (dims[2]) with number of filters (dims[3]).\n",
    "    ## TODO: en realidad no deberia ser un join de niputs*numFilters?\n",
    "    #hs = tf.transpose(H, [0, 2, 1, 3])  # the inputs are actually the downsampled n_inputs * n_filters (1,3)\n",
    "    #print(\"1:\", hs.get_shape().as_list())\n",
    "    #hs = tf.reshape(H,shape=[-1, dims[1] , dims[2] * dims[3]])  #flatten\n",
    "    #print(\"2:\", hs.get_shape().as_list())\n",
    "    ##Then, prepare oinputs for the LSTM:\n",
    "    ## Permuting batch_size and n_steps. TO: (sequence_length, batch_size, n_inputs)\n",
    "    #hs = tf.transpose(hs, [2, 0, 1])\n",
    "    #print(\"3:\", hs.get_shape().as_list())\n",
    "    ## Reshaping to (sequence_length*batch_size, n_inputs)\n",
    "    #auxDim=hs.get_shape().as_list()[0]\n",
    "    #hs = tf.reshape(hs, [-1, hs.get_shape().as_list()[2]])\n",
    "    #print(\"4:\", hs.get_shape().as_list())\n",
    "    ## Split to get a list of 'sequence_length' tensors of shape (batch_size, n_input)\n",
    "    #hs = tf.split(0, auxDim, hs)\n",
    "    ##print(\"5:\", hs)\n",
    "    \n",
    "    #Input is of the shape(batch, inputs, time, filters)\n",
    "    #First transpose to (time, batch, inputs, filters)\n",
    "    hs = tf.transpose(H, [2, 0, 1, 3])\n",
    "    print(\"1:\", hs.get_shape().as_list())\n",
    "    #Then join inputs*filters as inputs. Shape(time, batch, inputs*filters)\n",
    "    n_inputs_lstm = n_inputs * n_filters\n",
    "    hs = tf.reshape(hs,shape=[time_seq, -1, n_inputs_lstm])  #flatten\n",
    "    print(\"2:\", hs.get_shape().as_list())\n",
    "    #Then, join time*batch_size\n",
    "    hs = tf.reshape(hs,shape=[-1, n_inputs_lstm])\n",
    "    print(\"3:\", hs.get_shape().as_list())\n",
    "    #Finally, Split to get a list of 'time_seq' tensors of shape (batch_size, n_inputs*n_filters)\n",
    "    hs = tf.split(0, time_seq, hs)\n",
    "    print(\"4:\", np.array(hs).shape)\n",
    "else:\n",
    "    outputs=H"
   ]
  },
  {
   "cell_type": "code",
   "execution_count": 15,
   "metadata": {
    "collapsed": false
   },
   "outputs": [
    {
     "data": {
      "text/plain": [
       "<bound method Tensor.get_shape of <tf.Tensor 'split:1' shape=(?, 630) dtype=float32>>"
      ]
     },
     "execution_count": 15,
     "metadata": {},
     "output_type": "execute_result"
    }
   ],
   "source": [
    "hs[1].get_shape"
   ]
  },
  {
   "cell_type": "code",
   "execution_count": 16,
   "metadata": {
    "collapsed": true
   },
   "outputs": [],
   "source": [
    "if doLSTM:\n",
    "    # Number of cells in our LSTM layer\n",
    "    n_cells = 10\n",
    "\n",
    "    # Number of LSTM layers\n",
    "    n_layers = 1\n",
    "\n",
    "    if n_layers > 1:\n",
    "        cells = tf.nn.rnn_cell.MultiRNNCell(\n",
    "            [cells] * n_layers, state_is_tuple=True)\n",
    "        initial_state = cells.zero_state(tf.shape(X)[0], tf.float32)\n",
    "    else:\n",
    "        cells = tf.nn.rnn_cell.BasicLSTMCell(num_units=n_cells, state_is_tuple=True, forget_bias=1.0)\n",
    "        #initial_state = cells.zero_state(tf.shape(X)[0], tf.float32)"
   ]
  },
  {
   "cell_type": "code",
   "execution_count": 17,
   "metadata": {
    "collapsed": false
   },
   "outputs": [],
   "source": [
    "if doLSTM:\n",
    "    # this will return us a list of outputs of every element in our sequence.\n",
    "    # Each output is `batch_size` x `n_cells` of output.\n",
    "    # It will also return the state as a tuple of the n_cells's memory and\n",
    "    # their output to connect to the time we use the recurrent layer.\n",
    "    #outputs, state = tf.nn.rnn(cells, hs, initial_state=initial_state)\n",
    "    #print(outputs)\n",
    "\n",
    "    # Get lstm cell output\n",
    "    outputs, states = rnn.rnn(cells, hs, dtype=tf.float32)\n",
    "    #print(outputs.get_shape().as_list())\n",
    "    # Linear activation, using rnn inner loop last output\n",
    "    # Define weights\n",
    "    weights = {\n",
    "        'out': tf.Variable(tf.random_normal([n_cells, seq_l]))\n",
    "    }\n",
    "    biases = {\n",
    "        'out': tf.Variable(tf.random_normal([seq_l]))\n",
    "    }\n",
    "    outputs= tf.matmul(outputs[-1], weights['out']) + biases['out']\n",
    "    outputs.get_shape().as_list()"
   ]
  },
  {
   "cell_type": "raw",
   "metadata": {},
   "source": [
    "# We'll now stack all our outputs for every cell\n",
    "outputs_flat = tf.reshape(tf.concat(1, outputs), [-1, n_cells])\n",
    "print(outputs_flat)"
   ]
  },
  {
   "cell_type": "markdown",
   "metadata": {},
   "source": [
    "We'll now connect our last convolutional layer to a fully connected layer of 100 neurons.  This is essentially combining the spatial information, thus losing the spatial information.  You can use the `utils.linear` function to do this, which will internally also reshape the 4-d tensor to a 2-d tensor so that it can be connected to a fully-connected layer (i.e. perform a matrix multiplication)."
   ]
  },
  {
   "cell_type": "code",
   "execution_count": 18,
   "metadata": {
    "collapsed": false
   },
   "outputs": [],
   "source": [
    "# Connect the last convolutional/LSTM layer to a fully connected network\n",
    "fc, W = utils.linear(outputs, n_output=100, name=\"fcn1\", activation=tf.nn.relu)\n",
    "#fc2, W = utils.linear(fc, n_output=50, name=\"fcn2\", activation=tf.nn.relu)\n",
    "#fc3, W = utils.linear(fc2, n_output=10, name=\"fcn3\", activation=tf.nn.relu)\n",
    "\n",
    "# And another fully connceted network, now with just n_classes outputs, the number of outputs that our\n",
    "# one hot encoding has \n",
    "if (joinWithPitch):\n",
    "    #join this branch with the pitch\n",
    "    h, W = utils.linear(fc, n_classes, activation=tf.nn.softmax, name='prejoin')\n",
    "    joint = tf.concat(1, [X_pitch, h])\n",
    "    join1, W1 = utils.linear(joint, n_output=50, name=\"join1\", activation=tf.nn.relu)\n",
    "    join2, W2 = utils.linear(join1, n_output=50, name=\"join2\", activation=tf.nn.relu)\n",
    "    join3, W3 = utils.linear(join2, n_output=n_classes, name=\"join3\", activation=tf.nn.relu)\n",
    "    Y_pred, W4 = utils.linear(join3, n_classes, activation=tf.nn.softmax, name='pred')\n",
    "else:\n",
    "    Y_pred, W3 = utils.linear(fc, n_classes, activation=tf.nn.softmax, name='pred')"
   ]
  },
  {
   "cell_type": "markdown",
   "metadata": {},
   "source": [
    "We'll now create our cost.  Unlike the MNIST network, we're going to use a binary cross entropy as we only have 2 possible classes.  You can use the `utils.binary_cross_entropy` function to help you with this.  Remember, the final cost measure the average loss of your batches."
   ]
  },
  {
   "cell_type": "code",
   "execution_count": 19,
   "metadata": {
    "collapsed": false
   },
   "outputs": [],
   "source": [
    "#loss = utils.binary_cross_entropy(Y_pred, Y)\n",
    "loss = tf.squared_difference(Y_pred,Y)\n",
    "cost = tf.reduce_mean(tf.reduce_sum(loss, 1))"
   ]
  },
  {
   "cell_type": "markdown",
   "metadata": {},
   "source": [
    "Just like in MNIST, we'll now also create a measure of accuracy by finding the prediction of our network.  This is just for us to monitor the training and is not used to optimize the weights of the network!  Look back to the MNIST network in the lecture if you are unsure of how this works (it is exactly the same):"
   ]
  },
  {
   "cell_type": "code",
   "execution_count": 20,
   "metadata": {
    "collapsed": true
   },
   "outputs": [],
   "source": [
    "predicted_y = tf.argmax(Y_pred,1)\n",
    "actual_y = tf.argmax(Y,1)\n",
    "correct_prediction = tf.equal(predicted_y, actual_y)\n",
    "accuracy = tf.reduce_mean(tf.cast(correct_prediction, \"float\"))"
   ]
  },
  {
   "cell_type": "markdown",
   "metadata": {},
   "source": [
    "We'll now create an optimizer and train our network:"
   ]
  },
  {
   "cell_type": "code",
   "execution_count": 21,
   "metadata": {
    "collapsed": true
   },
   "outputs": [],
   "source": [
    "learning_rate = 0.001\n",
    "optimizer = tf.train.AdamOptimizer(learning_rate).minimize(cost)"
   ]
  },
  {
   "cell_type": "markdown",
   "metadata": {},
   "source": [
    "Train and Validate the network.\n",
    "\n",
    "Risk of [overfitting](https://en.wikipedia.org/wiki/Overfitting). This is a very common problem that can be addressed by using less parameters, or enforcing regularization techniques which we didn't have a chance to cover (dropout, batch norm, l2, augmenting the dataset, and others).\n",
    "\n",
    "For this dataset, if you notice that your validation set is performing worse than your training set, then you know you have overfit!  You should be able to easily get 97+% on the validation set within < 10 epochs.  If you've got great training performance, but poor validation performance, then you likely have \"overfit\" to the training dataset, and are unable to generalize to the validation set.  Try varying the network definition, number of filters/layers until you get 97+% on your validation set!"
   ]
  },
  {
   "cell_type": "code",
   "execution_count": 22,
   "metadata": {
    "collapsed": false
   },
   "outputs": [],
   "source": [
    "# Explore these parameters: (TODO)\n",
    "n_epochs = 10\n",
    "batch_size = 40\n",
    "\n",
    "# Create a session and init!\n",
    "sess = tf.Session()\n",
    "saver = tf.train.Saver()\n",
    "sess.run(tf.initialize_all_variables())"
   ]
  },
  {
   "cell_type": "raw",
   "metadata": {
    "collapsed": true
   },
   "source": [
    "if os.path.exists(\"./convNet9999.ckpt\"):\n",
    "    saver.restore(sess, \"convNet9999.ckpt\")\n",
    "    print(\"Model restored.\")"
   ]
  },
  {
   "cell_type": "code",
   "execution_count": 28,
   "metadata": {
    "collapsed": false
   },
   "outputs": [
    {
     "name": "stdout",
     "output_type": "stream",
     "text": [
      "Epoch:  0\n"
     ]
    },
    {
     "name": "stderr",
     "output_type": "stream",
     "text": [
      "/Users/alfonso/anaconda/lib/python3.5/site-packages/numpy/core/_methods.py:59: RuntimeWarning: Mean of empty slice.\n",
      "  warnings.warn(\"Mean of empty slice.\", RuntimeWarning)\n"
     ]
    },
    {
     "name": "stdout",
     "output_type": "stream",
     "text": [
      "Training accuracy:  0.971758515882 . Batch_accuracy:  1.0 . Took 0.032s\n",
      "accByString[ 0 ]: nan\n",
      "accByString[ 1 ]: 0.984209032432\n",
      "accByString[ 2 ]: 0.956448822617\n",
      "accByString[ 3 ]: 0.966787072705\n",
      "accByString[ 4 ]: nan\n",
      "Validation accuracy:  0.967672420987 . Took 0.007s\n",
      "Epoch:  1\n",
      "Training accuracy:  0.972217727068 . Batch_accuracy:  1.0 . Took 0.033s\n",
      "accByString[ 0 ]: nan\n",
      "accByString[ 1 ]: 0.984635736047\n",
      "accByString[ 2 ]: 0.958553428348\n",
      "accByString[ 3 ]: 0.967476424531\n",
      "accByString[ 4 ]: nan\n",
      "Validation accuracy:  0.956250005498 . Took 0.007s\n",
      "Epoch:  2\n",
      "Training accuracy:  0.973068618246 . Batch_accuracy:  1.0 . Took 0.034s\n",
      "accByString[ 0 ]: nan\n",
      "accByString[ 1 ]: 0.986208038911\n",
      "accByString[ 2 ]: 0.958974961496\n",
      "accByString[ 3 ]: 0.966652779021\n",
      "accByString[ 4 ]: nan\n",
      "Validation accuracy:  0.969935351662 . Took 0.007s\n",
      "Epoch:  3\n",
      "Training accuracy:  0.972312270758 . Batch_accuracy:  1.0 . Took 0.033s\n",
      "accByString[ 0 ]: nan\n",
      "accByString[ 1 ]: 0.984701495863\n",
      "accByString[ 2 ]: 0.958666892923\n",
      "accByString[ 3 ]: 0.967564281329\n",
      "accByString[ 4 ]: nan\n",
      "Validation accuracy:  0.966451155728 . Took 0.007s\n",
      "Epoch:  4\n",
      "Training accuracy:  0.972670934768 . Batch_accuracy:  0.888889 . Took 0.035s\n",
      "accByString[ 0 ]: nan\n",
      "accByString[ 1 ]: 0.984981324582\n",
      "accByString[ 2 ]: 0.958968155333\n",
      "accByString[ 3 ]: 0.967538815375\n",
      "accByString[ 4 ]: 0.983640424645\n",
      "Validation accuracy:  0.966774432567 . Took 0.007s\n",
      "Epoch:  5\n",
      "Training accuracy:  0.97382496683 . Batch_accuracy:  1.0 . Took 0.033s\n",
      "accByString[ 0 ]: nan\n",
      "accByString[ 1 ]: 0.985459905961\n",
      "accByString[ 2 ]: 0.960362590173\n",
      "accByString[ 3 ]: 0.968071534464\n",
      "accByString[ 4 ]: 0.985325516971\n",
      "Validation accuracy:  0.960524431077 . Took 0.007s\n",
      "Epoch:  6\n",
      "Training accuracy:  0.973662891496 . Batch_accuracy:  1.0 . Took 0.034s\n",
      "accByString[ 0 ]: nan\n",
      "accByString[ 1 ]: 0.986098149341\n",
      "accByString[ 2 ]: 0.959814972283\n",
      "accByString[ 3 ]: 0.96847470554\n",
      "accByString[ 4 ]: nan\n",
      "Validation accuracy:  0.967995696284 . Took 0.007s\n",
      "Epoch:  7\n",
      "Training accuracy:  0.973632878126 . Batch_accuracy:  0.944444 . Took 0.033s\n",
      "accByString[ 0 ]: nan\n",
      "accByString[ 1 ]: 0.985490010249\n",
      "accByString[ 2 ]: 0.960832948544\n",
      "accByString[ 3 ]: 0.968488574845\n",
      "accByString[ 4 ]: nan\n",
      "Validation accuracy:  0.967133626342 . Took 0.007s\n",
      "Epoch:  8\n",
      "Training accuracy:  0.973919509811 . Batch_accuracy:  1.0 . Took 0.033s\n",
      "accByString[ 0 ]: nan\n",
      "accByString[ 1 ]: 0.985992653288\n",
      "accByString[ 2 ]: 0.961706355106\n",
      "accByString[ 3 ]: 0.968494935813\n",
      "accByString[ 4 ]: nan\n",
      "Validation accuracy:  0.96508621296 . Took 0.007s\n",
      "Epoch:  9\n",
      "Training accuracy:  0.974146114112 . Batch_accuracy:  0.944444 . Took 0.033s\n",
      "accByString[ 0 ]: nan\n",
      "accByString[ 1 ]: 0.986066166939\n",
      "accByString[ 2 ]: 0.961929898678\n",
      "accByString[ 3 ]: 0.968740240631\n",
      "accByString[ 4 ]: nan\n",
      "Validation accuracy:  0.966702592784 . Took 0.007s\n",
      "Epoch:  10\n",
      "Training accuracy:  0.974284177951 . Batch_accuracy:  1.0 . Took 0.033s\n",
      "accByString[ 0 ]: nan\n",
      "accByString[ 1 ]: 0.986084441585\n",
      "accByString[ 2 ]: 0.962498790341\n",
      "accByString[ 3 ]: 0.968938281739\n",
      "accByString[ 4 ]: nan\n",
      "Validation accuracy:  0.955603452078 . Took 0.007s\n",
      "Epoch:  11\n",
      "Training accuracy:  0.974675858072 . Batch_accuracy:  1.0 . Took 0.033s\n",
      "accByString[ 0 ]: nan\n",
      "accByString[ 1 ]: 0.986637642902\n",
      "accByString[ 2 ]: 0.962712978134\n",
      "accByString[ 3 ]: 0.969589016683\n",
      "accByString[ 4 ]: nan\n",
      "Validation accuracy:  0.969504318618 . Took 0.007s\n",
      "Epoch:  12\n",
      "Training accuracy:  0.974108597094 . Batch_accuracy:  1.0 . Took 0.033s\n",
      "accByString[ 0 ]: nan\n",
      "accByString[ 1 ]: 0.986305469382\n",
      "accByString[ 2 ]: 0.961761740749\n",
      "accByString[ 3 ]: 0.968722511329\n",
      "accByString[ 4 ]: nan\n",
      "Validation accuracy:  0.963577592938 . Took 0.007s\n",
      "Epoch:  13\n",
      "Training accuracy:  0.975094550819 . Batch_accuracy:  1.0 . Took 0.032s\n",
      "accByString[ 0 ]: nan\n",
      "accByString[ 1 ]: 0.986295559364\n",
      "accByString[ 2 ]: 0.964780985402\n",
      "accByString[ 3 ]: 0.969252602968\n",
      "accByString[ 4 ]: nan\n",
      "Validation accuracy:  0.965158052999 . Took 0.007s\n",
      "Epoch:  14\n",
      "Training accuracy:  0.975675317772 . Batch_accuracy:  1.0 . Took 0.035s\n",
      "accByString[ 0 ]: nan\n",
      "accByString[ 1 ]: 0.987641790048\n",
      "accByString[ 2 ]: 0.964050017939\n",
      "accByString[ 3 ]: 0.970260591144\n",
      "accByString[ 4 ]: nan\n",
      "Validation accuracy:  0.965732764324 . Took 0.007s\n",
      "Epoch:  15\n",
      "Training accuracy:  0.973824966282 . Batch_accuracy:  1.0 . Took 0.032s\n",
      "accByString[ 0 ]: nan\n",
      "accByString[ 1 ]: 0.985843784976\n",
      "accByString[ 2 ]: 0.961004738001\n",
      "accByString[ 3 ]: 0.969449959033\n",
      "accByString[ 4 ]: nan\n",
      "Validation accuracy:  0.95915948651 . Took 0.007s\n",
      "Epoch:  16\n",
      "Training accuracy:  0.975202600129 . Batch_accuracy:  1.0 . Took 0.032s\n",
      "accByString[ 0 ]: nan\n",
      "accByString[ 1 ]: 0.986420616016\n",
      "accByString[ 2 ]: 0.964698284387\n",
      "accByString[ 3 ]: 0.969777738997\n",
      "accByString[ 4 ]: 0.984417813713\n",
      "Validation accuracy:  0.96120690169 . Took 0.007s\n",
      "Epoch:  17\n",
      "Training accuracy:  0.976371637716 . Batch_accuracy:  0.888889 . Took 0.033s\n",
      "accByString[ 0 ]: nan\n",
      "accByString[ 1 ]: 0.987604400277\n",
      "accByString[ 2 ]: 0.965498864674\n",
      "accByString[ 3 ]: 0.971869004294\n",
      "accByString[ 4 ]: 0.984479728058\n",
      "Validation accuracy:  0.962140809873 . Took 0.007s\n",
      "Epoch:  18\n",
      "Training accuracy:  0.974945982329 . Batch_accuracy:  1.0 . Took 0.033s\n",
      "accByString[ 0 ]: nan\n",
      "accByString[ 1 ]: 0.985581544484\n",
      "accByString[ 2 ]: 0.963035150691\n",
      "accByString[ 3 ]: 0.971334961255\n",
      "accByString[ 4 ]: 0.984667941759\n",
      "Validation accuracy:  0.966810349247 . Took 0.007s\n",
      "Epoch:  19\n",
      "Training accuracy:  0.975999467087 . Batch_accuracy:  1.0 . Took 0.033s\n",
      "accByString[ 0 ]: nan\n",
      "accByString[ 1 ]: 0.985830249011\n",
      "accByString[ 2 ]: 0.966201571369\n",
      "accByString[ 3 ]: 0.97130313689\n",
      "accByString[ 4 ]: nan\n",
      "Validation accuracy:  0.969899432156 . Took 0.007s\n",
      "Epoch:  20\n",
      "Training accuracy:  0.97685035833 . Batch_accuracy:  1.0 . Took 0.034s\n",
      "accByString[ 0 ]: nan\n",
      "accByString[ 1 ]: 0.986608728617\n",
      "accByString[ 2 ]: 0.967480327352\n",
      "accByString[ 3 ]: 0.971795283446\n",
      "accByString[ 4 ]: nan\n",
      "Validation accuracy:  0.969181040752 . Took 0.007s\n",
      "Epoch:  21\n",
      "Training accuracy:  0.976404653054 . Batch_accuracy:  1.0 . Took 0.033s\n",
      "accByString[ 0 ]: nan\n",
      "accByString[ 1 ]: 0.986957078321\n",
      "accByString[ 2 ]: 0.966667228313\n",
      "accByString[ 3 ]: 0.972199331008\n",
      "accByString[ 4 ]: nan\n",
      "Validation accuracy:  0.967564662212 . Took 0.007s\n",
      "Epoch:  22\n",
      "Training accuracy:  0.976296603583 . Batch_accuracy:  1.0 . Took 0.032s\n",
      "accByString[ 0 ]: nan\n",
      "accByString[ 1 ]: 0.986321889205\n",
      "accByString[ 2 ]: 0.96512939622\n",
      "accByString[ 3 ]: 0.972029189567\n",
      "accByString[ 4 ]: 0.985108865863\n",
      "Validation accuracy:  0.96756466067 . Took 0.007s\n",
      "Epoch:  23\n",
      "Training accuracy:  0.975499737044 . Batch_accuracy:  1.0 . Took 0.033s\n",
      "accByString[ 0 ]: nan\n",
      "accByString[ 1 ]: 0.98487944706\n",
      "accByString[ 2 ]: 0.964017281316\n",
      "accByString[ 3 ]: nan\n",
      "accByString[ 4 ]: nan\n",
      "Validation accuracy:  0.970330467769 . Took 0.007s\n",
      "Epoch:  24\n",
      "Training accuracy:  0.976971914709 . Batch_accuracy:  1.0 . Took 0.033s\n",
      "accByString[ 0 ]: nan\n",
      "accByString[ 1 ]: 0.98603644421\n",
      "accByString[ 2 ]: 0.966686687174\n",
      "accByString[ 3 ]: 0.972730623122\n",
      "accByString[ 4 ]: nan\n",
      "Validation accuracy:  0.966810350531 . Took 0.007s\n",
      "Epoch:  25\n",
      "Training accuracy:  0.976661271626 . Batch_accuracy:  1.0 . Took 0.034s\n",
      "accByString[ 0 ]: nan\n",
      "accByString[ 1 ]: 0.986635003253\n",
      "accByString[ 2 ]: 0.96744900128\n",
      "accByString[ 3 ]: 0.972155612622\n",
      "accByString[ 4 ]: nan\n",
      "Validation accuracy:  0.968175293557 . Took 0.008s\n",
      "Epoch:  26\n",
      "Training accuracy:  0.977255544297 . Batch_accuracy:  1.0 . Took 0.033s\n",
      "accByString[ 0 ]: nan\n",
      "accByString[ 1 ]: 0.986769085507\n",
      "accByString[ 2 ]: 0.967637463559\n",
      "accByString[ 3 ]: 0.972756623761\n",
      "accByString[ 4 ]: nan\n",
      "Validation accuracy:  0.970905178323 . Took 0.007s\n",
      "Epoch:  27\n",
      "Training accuracy:  0.977468642752 . Batch_accuracy:  0.944444 . Took 0.035s\n",
      "accByString[ 0 ]: nan\n",
      "accByString[ 1 ]: 0.986821985982\n",
      "accByString[ 2 ]: 0.967010700332\n",
      "accByString[ 3 ]: 0.97327375356\n",
      "accByString[ 4 ]: nan\n",
      "Validation accuracy:  0.971659487691 . Took 0.007s\n",
      "Epoch:  28\n",
      "Training accuracy:  0.977998386294 . Batch_accuracy:  1.0 . Took 0.033s\n",
      "accByString[ 0 ]: nan\n",
      "accByString[ 1 ]: 0.988346723032\n",
      "accByString[ 2 ]: 0.969865393084\n",
      "accByString[ 3 ]: 0.972894474218\n",
      "accByString[ 4 ]: nan\n",
      "Validation accuracy:  0.970474145279 . Took 0.007s\n",
      "Epoch:  29\n",
      "Training accuracy:  0.977495655152 . Batch_accuracy:  0.944444 . Took 0.033s\n",
      "accByString[ 0 ]: nan\n",
      "accByString[ 1 ]: 0.987120743253\n",
      "accByString[ 2 ]: 0.96776188756\n",
      "accByString[ 3 ]: 0.972942043509\n",
      "accByString[ 4 ]: 0.986099652793\n",
      "Validation accuracy:  0.965840524897 . Took 0.007s\n",
      "Epoch:  30\n",
      "Training accuracy:  0.978103434827 . Batch_accuracy:  0.944444 . Took 0.033s\n",
      "accByString[ 0 ]: nan\n",
      "accByString[ 1 ]: 0.987923214062\n",
      "accByString[ 2 ]: 0.969875725145\n",
      "accByString[ 3 ]: 0.974045910161\n",
      "accByString[ 4 ]: nan\n",
      "Validation accuracy:  0.970366386247 . Took 0.007s\n",
      "Epoch:  31\n",
      "Training accuracy:  0.977485150469 . Batch_accuracy:  1.0 . Took 0.033s\n",
      "accByString[ 0 ]: nan\n",
      "accByString[ 1 ]: 0.986680942767\n",
      "accByString[ 2 ]: 0.96880669727\n",
      "accByString[ 3 ]: 0.973101708224\n",
      "accByString[ 4 ]: nan\n",
      "Validation accuracy:  0.971012936584 . Took 0.007s\n",
      "Epoch:  32\n",
      "Training accuracy:  0.977836311733 . Batch_accuracy:  1.0 . Took 0.033s\n",
      "accByString[ 0 ]: nan\n",
      "accByString[ 1 ]: 0.988219923695\n",
      "accByString[ 2 ]: 0.969036097026\n",
      "accByString[ 3 ]: 0.972883323775\n",
      "accByString[ 4 ]: nan\n",
      "Validation accuracy:  0.969181040238 . Took 0.007s\n",
      "Epoch:  33\n",
      "Training accuracy:  0.979119402276 . Batch_accuracy:  1.0 . Took 0.038s\n",
      "accByString[ 0 ]: nan\n",
      "accByString[ 1 ]: 0.987988633856\n",
      "accByString[ 2 ]: 0.970578951036\n",
      "accByString[ 3 ]: 0.974952004953\n",
      "accByString[ 4 ]: 0.986364585352\n",
      "Validation accuracy:  0.964870695153 . Took 0.007s\n",
      "Epoch:  34\n",
      "Training accuracy:  0.978025399144 . Batch_accuracy:  1.0 . Took 0.039s\n",
      "accByString[ 0 ]: nan\n",
      "accByString[ 1 ]: 0.987157266159\n",
      "accByString[ 2 ]: 0.970070334628\n",
      "accByString[ 3 ]: 0.972493688796\n",
      "accByString[ 4 ]: nan\n",
      "Validation accuracy:  0.967349143378 . Took 0.010s\n",
      "Epoch:  35\n",
      "Training accuracy:  0.977260046685 . Batch_accuracy:  0.833333 . Took 0.056s\n",
      "accByString[ 0 ]: nan\n",
      "accByString[ 1 ]: 0.986584846185\n",
      "accByString[ 2 ]: 0.968094872075\n",
      "accByString[ 3 ]: 0.973218338239\n",
      "accByString[ 4 ]: nan\n",
      "Validation accuracy:  0.970689662058 . Took 0.012s\n",
      "Epoch:  36\n",
      "Training accuracy:  0.979240958173 . Batch_accuracy:  1.0 . Took 0.097s\n",
      "accByString[ 0 ]: nan\n",
      "accByString[ 1 ]: 0.988037293458\n",
      "accByString[ 2 ]: 0.97006325269\n",
      "accByString[ 3 ]: 0.975924703159\n",
      "accByString[ 4 ]: nan\n",
      "Validation accuracy:  0.967672419445 . Took 0.015s\n",
      "Epoch:  37\n",
      "Training accuracy:  0.979288980357 . Batch_accuracy:  0.888889 . Took 0.041s\n",
      "accByString[ 0 ]: nan\n",
      "accByString[ 1 ]: 0.987875354413\n",
      "accByString[ 2 ]: 0.972403988079\n",
      "accByString[ 3 ]: 0.975287532514\n",
      "accByString[ 4 ]: nan\n",
      "Validation accuracy:  0.969181040752 . Took 0.022s\n",
      "Epoch:  38\n",
      "Training accuracy:  0.979200439058 . Batch_accuracy:  1.0 . Took 0.033s\n",
      "accByString[ 0 ]: nan\n",
      "accByString[ 1 ]: 0.986821956322\n",
      "accByString[ 2 ]: 0.971691858847\n",
      "accByString[ 3 ]: 0.976036634943\n",
      "accByString[ 4 ]: 0.986349833311\n",
      "Validation accuracy:  0.969288798499 . Took 0.019s\n",
      "Epoch:  39\n",
      "Training accuracy:  0.979213945998 . Batch_accuracy:  1.0 . Took 0.032s\n",
      "accByString[ 0 ]: nan\n",
      "accByString[ 1 ]: 0.988304556079\n",
      "accByString[ 2 ]: 0.969925137547\n",
      "accByString[ 3 ]: 0.976160065066\n",
      "accByString[ 4 ]: nan\n",
      "Validation accuracy:  0.97054598352 . Took 0.007s\n"
     ]
    }
   ],
   "source": [
    "n_epochs = 40\n",
    "# Now iterate over our dataset n_epoch times\n",
    "for epoch_i in range(n_epochs):\n",
    "    print('Epoch: ', epoch_i)\n",
    "    \n",
    "    # Train\n",
    "    this_accuracy = 0\n",
    "    its = 0\n",
    "    accByString=[0]*5\n",
    "    \n",
    "    # Do our mini batches:\n",
    "    for Xs_i, ys_i in ds.train.next_batch(batch_size):\n",
    "        start_time = time.time()\n",
    "        # Note here: we are running the optimizer so\n",
    "        # that the network parameters train!\n",
    "        if (joinWithPitch):\n",
    "            [batch_prediction, batch_accuracy, _] = sess.run([Y_pred, accuracy, optimizer], feed_dict={\n",
    "                X:Xs_i[:,0:-1], Y:ys_i, X_pitch:Xs_i[:,-1:,0,0]})\n",
    "            this_accuracy += batch_accuracy\n",
    "            #compute accuracy for each string\n",
    "            origString = np.argmax(ys_i,1)\n",
    "            predString= np.argmax(batch_prediction,1)\n",
    "            for iString in range(5):\n",
    "                idx = np.where(origString==iString)\n",
    "                if len(idx):\n",
    "                    accByString[iString]+=np.average(np.equal(origString[idx],predString[idx]).astype(float))\n",
    "        else:\n",
    "            [batch_prediction, batch_accuracy, _] =  sess.run([Y_pred, accuracy, optimizer], feed_dict={\n",
    "                X:Xs_i, Y:ys_i})\n",
    "            this_accuracy += batch_accuracy\n",
    "            #compute accuracy for each string\n",
    "            origString = np.argmax(ys_i,1)\n",
    "            predString= np.argmax(batch_prediction,1)\n",
    "            for iString in range(5):\n",
    "                idx = np.where(origString==iString)\n",
    "                if len(idx):\n",
    "                    accByString[iString]+=np.average(np.equal(origString[idx],predString[idx]).astype(float))\n",
    "            \n",
    "        its += 1\n",
    "        #print(this_accuracy / its)\n",
    "    print('Training accuracy: ', this_accuracy / its, '. Batch_accuracy: ', batch_accuracy, \". Took {:.3f}s\".format(\n",
    "            time.time() - start_time))\n",
    "    for iString in range(5):\n",
    "        print(\"accByString[\", iString, \"]:\", accByString[iString]/its)\n",
    "    # Validation (see how the network does on unseen data).\n",
    "    this_accuracy = 0\n",
    "    its = 0\n",
    "    \n",
    "    # Do our mini batches:\n",
    "    for Xs_i, ys_i in ds.valid.next_batch(batch_size):\n",
    "        # Note here: we are NOT running the optimizer!\n",
    "        # we only measure the accuracy!\n",
    "        start_time = time.time()\n",
    "        if (joinWithPitch):\n",
    "            this_accuracy += sess.run(accuracy, feed_dict={\n",
    "                X:Xs_i[:,0:-1], Y:ys_i, X_pitch:Xs_i[:,-1:,0,0]})\n",
    "        else:\n",
    "            this_accuracy += sess.run(accuracy, feed_dict={\n",
    "                X:Xs_i, Y:ys_i})\n",
    "\n",
    "        its += 1\n",
    "    print('Validation accuracy: ', this_accuracy / its, \". Took {:.3f}s\".format(\n",
    "            time.time() - start_time))"
   ]
  },
  {
   "cell_type": "code",
   "execution_count": 39,
   "metadata": {
    "collapsed": false
   },
   "outputs": [
    {
     "name": "stdout",
     "output_type": "stream",
     "text": [
      "Model saved in file: ./models/string_convnet_lstm20170413_2059.ckpt\n"
     ]
    }
   ],
   "source": [
    "# post-train ConvNet\n",
    "now = datetime.datetime.now()\n",
    "save_path = saver.save(sess, \"./models/string_convnet_lstm\" + now.strftime(\"%Y%m%d_%H%M\") + \".ckpt\")\n",
    "print(\"Model saved in file: %s\" % save_path)"
   ]
  },
  {
   "cell_type": "code",
   "execution_count": 29,
   "metadata": {
    "collapsed": false
   },
   "outputs": [],
   "source": [
    "# Do our mini batches:\n",
    "Xs_i, ys_i = next(ds.train.next_batch(400))\n",
    "\n",
    "if (joinWithPitch):\n",
    "    prediction = sess.run([Y_pred], feed_dict={X:Xs_i[:,0:-1], X_pitch:Xs_i[:,-1:,0,0]})[0]\n",
    "else:\n",
    "    prediction = sess.run([Y_pred], feed_dict={X:Xs_i})[0]"
   ]
  },
  {
   "cell_type": "code",
   "execution_count": 34,
   "metadata": {
    "collapsed": false
   },
   "outputs": [
    {
     "data": {
      "text/plain": [
       "(400, 5)"
      ]
     },
     "execution_count": 34,
     "metadata": {},
     "output_type": "execute_result"
    }
   ],
   "source": [
    "prediction.shape"
   ]
  },
  {
   "cell_type": "code",
   "execution_count": 30,
   "metadata": {
    "collapsed": false
   },
   "outputs": [
    {
     "data": {
      "application/javascript": [
       "/* Put everything inside the global mpl namespace */\n",
       "window.mpl = {};\n",
       "\n",
       "mpl.get_websocket_type = function() {\n",
       "    if (typeof(WebSocket) !== 'undefined') {\n",
       "        return WebSocket;\n",
       "    } else if (typeof(MozWebSocket) !== 'undefined') {\n",
       "        return MozWebSocket;\n",
       "    } else {\n",
       "        alert('Your browser does not have WebSocket support.' +\n",
       "              'Please try Chrome, Safari or Firefox ≥ 6. ' +\n",
       "              'Firefox 4 and 5 are also supported but you ' +\n",
       "              'have to enable WebSockets in about:config.');\n",
       "    };\n",
       "}\n",
       "\n",
       "mpl.figure = function(figure_id, websocket, ondownload, parent_element) {\n",
       "    this.id = figure_id;\n",
       "\n",
       "    this.ws = websocket;\n",
       "\n",
       "    this.supports_binary = (this.ws.binaryType != undefined);\n",
       "\n",
       "    if (!this.supports_binary) {\n",
       "        var warnings = document.getElementById(\"mpl-warnings\");\n",
       "        if (warnings) {\n",
       "            warnings.style.display = 'block';\n",
       "            warnings.textContent = (\n",
       "                \"This browser does not support binary websocket messages. \" +\n",
       "                    \"Performance may be slow.\");\n",
       "        }\n",
       "    }\n",
       "\n",
       "    this.imageObj = new Image();\n",
       "\n",
       "    this.context = undefined;\n",
       "    this.message = undefined;\n",
       "    this.canvas = undefined;\n",
       "    this.rubberband_canvas = undefined;\n",
       "    this.rubberband_context = undefined;\n",
       "    this.format_dropdown = undefined;\n",
       "\n",
       "    this.image_mode = 'full';\n",
       "\n",
       "    this.root = $('<div/>');\n",
       "    this._root_extra_style(this.root)\n",
       "    this.root.attr('style', 'display: inline-block');\n",
       "\n",
       "    $(parent_element).append(this.root);\n",
       "\n",
       "    this._init_header(this);\n",
       "    this._init_canvas(this);\n",
       "    this._init_toolbar(this);\n",
       "\n",
       "    var fig = this;\n",
       "\n",
       "    this.waiting = false;\n",
       "\n",
       "    this.ws.onopen =  function () {\n",
       "            fig.send_message(\"supports_binary\", {value: fig.supports_binary});\n",
       "            fig.send_message(\"send_image_mode\", {});\n",
       "            fig.send_message(\"refresh\", {});\n",
       "        }\n",
       "\n",
       "    this.imageObj.onload = function() {\n",
       "            if (fig.image_mode == 'full') {\n",
       "                // Full images could contain transparency (where diff images\n",
       "                // almost always do), so we need to clear the canvas so that\n",
       "                // there is no ghosting.\n",
       "                fig.context.clearRect(0, 0, fig.canvas.width, fig.canvas.height);\n",
       "            }\n",
       "            fig.context.drawImage(fig.imageObj, 0, 0);\n",
       "        };\n",
       "\n",
       "    this.imageObj.onunload = function() {\n",
       "        this.ws.close();\n",
       "    }\n",
       "\n",
       "    this.ws.onmessage = this._make_on_message_function(this);\n",
       "\n",
       "    this.ondownload = ondownload;\n",
       "}\n",
       "\n",
       "mpl.figure.prototype._init_header = function() {\n",
       "    var titlebar = $(\n",
       "        '<div class=\"ui-dialog-titlebar ui-widget-header ui-corner-all ' +\n",
       "        'ui-helper-clearfix\"/>');\n",
       "    var titletext = $(\n",
       "        '<div class=\"ui-dialog-title\" style=\"width: 100%; ' +\n",
       "        'text-align: center; padding: 3px;\"/>');\n",
       "    titlebar.append(titletext)\n",
       "    this.root.append(titlebar);\n",
       "    this.header = titletext[0];\n",
       "}\n",
       "\n",
       "\n",
       "\n",
       "mpl.figure.prototype._canvas_extra_style = function(canvas_div) {\n",
       "\n",
       "}\n",
       "\n",
       "\n",
       "mpl.figure.prototype._root_extra_style = function(canvas_div) {\n",
       "\n",
       "}\n",
       "\n",
       "mpl.figure.prototype._init_canvas = function() {\n",
       "    var fig = this;\n",
       "\n",
       "    var canvas_div = $('<div/>');\n",
       "\n",
       "    canvas_div.attr('style', 'position: relative; clear: both; outline: 0');\n",
       "\n",
       "    function canvas_keyboard_event(event) {\n",
       "        return fig.key_event(event, event['data']);\n",
       "    }\n",
       "\n",
       "    canvas_div.keydown('key_press', canvas_keyboard_event);\n",
       "    canvas_div.keyup('key_release', canvas_keyboard_event);\n",
       "    this.canvas_div = canvas_div\n",
       "    this._canvas_extra_style(canvas_div)\n",
       "    this.root.append(canvas_div);\n",
       "\n",
       "    var canvas = $('<canvas/>');\n",
       "    canvas.addClass('mpl-canvas');\n",
       "    canvas.attr('style', \"left: 0; top: 0; z-index: 0; outline: 0\")\n",
       "\n",
       "    this.canvas = canvas[0];\n",
       "    this.context = canvas[0].getContext(\"2d\");\n",
       "\n",
       "    var rubberband = $('<canvas/>');\n",
       "    rubberband.attr('style', \"position: absolute; left: 0; top: 0; z-index: 1;\")\n",
       "\n",
       "    var pass_mouse_events = true;\n",
       "\n",
       "    canvas_div.resizable({\n",
       "        start: function(event, ui) {\n",
       "            pass_mouse_events = false;\n",
       "        },\n",
       "        resize: function(event, ui) {\n",
       "            fig.request_resize(ui.size.width, ui.size.height);\n",
       "        },\n",
       "        stop: function(event, ui) {\n",
       "            pass_mouse_events = true;\n",
       "            fig.request_resize(ui.size.width, ui.size.height);\n",
       "        },\n",
       "    });\n",
       "\n",
       "    function mouse_event_fn(event) {\n",
       "        if (pass_mouse_events)\n",
       "            return fig.mouse_event(event, event['data']);\n",
       "    }\n",
       "\n",
       "    rubberband.mousedown('button_press', mouse_event_fn);\n",
       "    rubberband.mouseup('button_release', mouse_event_fn);\n",
       "    // Throttle sequential mouse events to 1 every 20ms.\n",
       "    rubberband.mousemove('motion_notify', mouse_event_fn);\n",
       "\n",
       "    rubberband.mouseenter('figure_enter', mouse_event_fn);\n",
       "    rubberband.mouseleave('figure_leave', mouse_event_fn);\n",
       "\n",
       "    canvas_div.on(\"wheel\", function (event) {\n",
       "        event = event.originalEvent;\n",
       "        event['data'] = 'scroll'\n",
       "        if (event.deltaY < 0) {\n",
       "            event.step = 1;\n",
       "        } else {\n",
       "            event.step = -1;\n",
       "        }\n",
       "        mouse_event_fn(event);\n",
       "    });\n",
       "\n",
       "    canvas_div.append(canvas);\n",
       "    canvas_div.append(rubberband);\n",
       "\n",
       "    this.rubberband = rubberband;\n",
       "    this.rubberband_canvas = rubberband[0];\n",
       "    this.rubberband_context = rubberband[0].getContext(\"2d\");\n",
       "    this.rubberband_context.strokeStyle = \"#000000\";\n",
       "\n",
       "    this._resize_canvas = function(width, height) {\n",
       "        // Keep the size of the canvas, canvas container, and rubber band\n",
       "        // canvas in synch.\n",
       "        canvas_div.css('width', width)\n",
       "        canvas_div.css('height', height)\n",
       "\n",
       "        canvas.attr('width', width);\n",
       "        canvas.attr('height', height);\n",
       "\n",
       "        rubberband.attr('width', width);\n",
       "        rubberband.attr('height', height);\n",
       "    }\n",
       "\n",
       "    // Set the figure to an initial 600x600px, this will subsequently be updated\n",
       "    // upon first draw.\n",
       "    this._resize_canvas(600, 600);\n",
       "\n",
       "    // Disable right mouse context menu.\n",
       "    $(this.rubberband_canvas).bind(\"contextmenu\",function(e){\n",
       "        return false;\n",
       "    });\n",
       "\n",
       "    function set_focus () {\n",
       "        canvas.focus();\n",
       "        canvas_div.focus();\n",
       "    }\n",
       "\n",
       "    window.setTimeout(set_focus, 100);\n",
       "}\n",
       "\n",
       "mpl.figure.prototype._init_toolbar = function() {\n",
       "    var fig = this;\n",
       "\n",
       "    var nav_element = $('<div/>')\n",
       "    nav_element.attr('style', 'width: 100%');\n",
       "    this.root.append(nav_element);\n",
       "\n",
       "    // Define a callback function for later on.\n",
       "    function toolbar_event(event) {\n",
       "        return fig.toolbar_button_onclick(event['data']);\n",
       "    }\n",
       "    function toolbar_mouse_event(event) {\n",
       "        return fig.toolbar_button_onmouseover(event['data']);\n",
       "    }\n",
       "\n",
       "    for(var toolbar_ind in mpl.toolbar_items) {\n",
       "        var name = mpl.toolbar_items[toolbar_ind][0];\n",
       "        var tooltip = mpl.toolbar_items[toolbar_ind][1];\n",
       "        var image = mpl.toolbar_items[toolbar_ind][2];\n",
       "        var method_name = mpl.toolbar_items[toolbar_ind][3];\n",
       "\n",
       "        if (!name) {\n",
       "            // put a spacer in here.\n",
       "            continue;\n",
       "        }\n",
       "        var button = $('<button/>');\n",
       "        button.addClass('ui-button ui-widget ui-state-default ui-corner-all ' +\n",
       "                        'ui-button-icon-only');\n",
       "        button.attr('role', 'button');\n",
       "        button.attr('aria-disabled', 'false');\n",
       "        button.click(method_name, toolbar_event);\n",
       "        button.mouseover(tooltip, toolbar_mouse_event);\n",
       "\n",
       "        var icon_img = $('<span/>');\n",
       "        icon_img.addClass('ui-button-icon-primary ui-icon');\n",
       "        icon_img.addClass(image);\n",
       "        icon_img.addClass('ui-corner-all');\n",
       "\n",
       "        var tooltip_span = $('<span/>');\n",
       "        tooltip_span.addClass('ui-button-text');\n",
       "        tooltip_span.html(tooltip);\n",
       "\n",
       "        button.append(icon_img);\n",
       "        button.append(tooltip_span);\n",
       "\n",
       "        nav_element.append(button);\n",
       "    }\n",
       "\n",
       "    var fmt_picker_span = $('<span/>');\n",
       "\n",
       "    var fmt_picker = $('<select/>');\n",
       "    fmt_picker.addClass('mpl-toolbar-option ui-widget ui-widget-content');\n",
       "    fmt_picker_span.append(fmt_picker);\n",
       "    nav_element.append(fmt_picker_span);\n",
       "    this.format_dropdown = fmt_picker[0];\n",
       "\n",
       "    for (var ind in mpl.extensions) {\n",
       "        var fmt = mpl.extensions[ind];\n",
       "        var option = $(\n",
       "            '<option/>', {selected: fmt === mpl.default_extension}).html(fmt);\n",
       "        fmt_picker.append(option)\n",
       "    }\n",
       "\n",
       "    // Add hover states to the ui-buttons\n",
       "    $( \".ui-button\" ).hover(\n",
       "        function() { $(this).addClass(\"ui-state-hover\");},\n",
       "        function() { $(this).removeClass(\"ui-state-hover\");}\n",
       "    );\n",
       "\n",
       "    var status_bar = $('<span class=\"mpl-message\"/>');\n",
       "    nav_element.append(status_bar);\n",
       "    this.message = status_bar[0];\n",
       "}\n",
       "\n",
       "mpl.figure.prototype.request_resize = function(x_pixels, y_pixels) {\n",
       "    // Request matplotlib to resize the figure. Matplotlib will then trigger a resize in the client,\n",
       "    // which will in turn request a refresh of the image.\n",
       "    this.send_message('resize', {'width': x_pixels, 'height': y_pixels});\n",
       "}\n",
       "\n",
       "mpl.figure.prototype.send_message = function(type, properties) {\n",
       "    properties['type'] = type;\n",
       "    properties['figure_id'] = this.id;\n",
       "    this.ws.send(JSON.stringify(properties));\n",
       "}\n",
       "\n",
       "mpl.figure.prototype.send_draw_message = function() {\n",
       "    if (!this.waiting) {\n",
       "        this.waiting = true;\n",
       "        this.ws.send(JSON.stringify({type: \"draw\", figure_id: this.id}));\n",
       "    }\n",
       "}\n",
       "\n",
       "\n",
       "mpl.figure.prototype.handle_save = function(fig, msg) {\n",
       "    var format_dropdown = fig.format_dropdown;\n",
       "    var format = format_dropdown.options[format_dropdown.selectedIndex].value;\n",
       "    fig.ondownload(fig, format);\n",
       "}\n",
       "\n",
       "\n",
       "mpl.figure.prototype.handle_resize = function(fig, msg) {\n",
       "    var size = msg['size'];\n",
       "    if (size[0] != fig.canvas.width || size[1] != fig.canvas.height) {\n",
       "        fig._resize_canvas(size[0], size[1]);\n",
       "        fig.send_message(\"refresh\", {});\n",
       "    };\n",
       "}\n",
       "\n",
       "mpl.figure.prototype.handle_rubberband = function(fig, msg) {\n",
       "    var x0 = msg['x0'];\n",
       "    var y0 = fig.canvas.height - msg['y0'];\n",
       "    var x1 = msg['x1'];\n",
       "    var y1 = fig.canvas.height - msg['y1'];\n",
       "    x0 = Math.floor(x0) + 0.5;\n",
       "    y0 = Math.floor(y0) + 0.5;\n",
       "    x1 = Math.floor(x1) + 0.5;\n",
       "    y1 = Math.floor(y1) + 0.5;\n",
       "    var min_x = Math.min(x0, x1);\n",
       "    var min_y = Math.min(y0, y1);\n",
       "    var width = Math.abs(x1 - x0);\n",
       "    var height = Math.abs(y1 - y0);\n",
       "\n",
       "    fig.rubberband_context.clearRect(\n",
       "        0, 0, fig.canvas.width, fig.canvas.height);\n",
       "\n",
       "    fig.rubberband_context.strokeRect(min_x, min_y, width, height);\n",
       "}\n",
       "\n",
       "mpl.figure.prototype.handle_figure_label = function(fig, msg) {\n",
       "    // Updates the figure title.\n",
       "    fig.header.textContent = msg['label'];\n",
       "}\n",
       "\n",
       "mpl.figure.prototype.handle_cursor = function(fig, msg) {\n",
       "    var cursor = msg['cursor'];\n",
       "    switch(cursor)\n",
       "    {\n",
       "    case 0:\n",
       "        cursor = 'pointer';\n",
       "        break;\n",
       "    case 1:\n",
       "        cursor = 'default';\n",
       "        break;\n",
       "    case 2:\n",
       "        cursor = 'crosshair';\n",
       "        break;\n",
       "    case 3:\n",
       "        cursor = 'move';\n",
       "        break;\n",
       "    }\n",
       "    fig.rubberband_canvas.style.cursor = cursor;\n",
       "}\n",
       "\n",
       "mpl.figure.prototype.handle_message = function(fig, msg) {\n",
       "    fig.message.textContent = msg['message'];\n",
       "}\n",
       "\n",
       "mpl.figure.prototype.handle_draw = function(fig, msg) {\n",
       "    // Request the server to send over a new figure.\n",
       "    fig.send_draw_message();\n",
       "}\n",
       "\n",
       "mpl.figure.prototype.handle_image_mode = function(fig, msg) {\n",
       "    fig.image_mode = msg['mode'];\n",
       "}\n",
       "\n",
       "mpl.figure.prototype.updated_canvas_event = function() {\n",
       "    // Called whenever the canvas gets updated.\n",
       "    this.send_message(\"ack\", {});\n",
       "}\n",
       "\n",
       "// A function to construct a web socket function for onmessage handling.\n",
       "// Called in the figure constructor.\n",
       "mpl.figure.prototype._make_on_message_function = function(fig) {\n",
       "    return function socket_on_message(evt) {\n",
       "        if (evt.data instanceof Blob) {\n",
       "            /* FIXME: We get \"Resource interpreted as Image but\n",
       "             * transferred with MIME type text/plain:\" errors on\n",
       "             * Chrome.  But how to set the MIME type?  It doesn't seem\n",
       "             * to be part of the websocket stream */\n",
       "            evt.data.type = \"image/png\";\n",
       "\n",
       "            /* Free the memory for the previous frames */\n",
       "            if (fig.imageObj.src) {\n",
       "                (window.URL || window.webkitURL).revokeObjectURL(\n",
       "                    fig.imageObj.src);\n",
       "            }\n",
       "\n",
       "            fig.imageObj.src = (window.URL || window.webkitURL).createObjectURL(\n",
       "                evt.data);\n",
       "            fig.updated_canvas_event();\n",
       "            fig.waiting = false;\n",
       "            return;\n",
       "        }\n",
       "        else if (typeof evt.data === 'string' && evt.data.slice(0, 21) == \"data:image/png;base64\") {\n",
       "            fig.imageObj.src = evt.data;\n",
       "            fig.updated_canvas_event();\n",
       "            fig.waiting = false;\n",
       "            return;\n",
       "        }\n",
       "\n",
       "        var msg = JSON.parse(evt.data);\n",
       "        var msg_type = msg['type'];\n",
       "\n",
       "        // Call the  \"handle_{type}\" callback, which takes\n",
       "        // the figure and JSON message as its only arguments.\n",
       "        try {\n",
       "            var callback = fig[\"handle_\" + msg_type];\n",
       "        } catch (e) {\n",
       "            console.log(\"No handler for the '\" + msg_type + \"' message type: \", msg);\n",
       "            return;\n",
       "        }\n",
       "\n",
       "        if (callback) {\n",
       "            try {\n",
       "                // console.log(\"Handling '\" + msg_type + \"' message: \", msg);\n",
       "                callback(fig, msg);\n",
       "            } catch (e) {\n",
       "                console.log(\"Exception inside the 'handler_\" + msg_type + \"' callback:\", e, e.stack, msg);\n",
       "            }\n",
       "        }\n",
       "    };\n",
       "}\n",
       "\n",
       "// from http://stackoverflow.com/questions/1114465/getting-mouse-location-in-canvas\n",
       "mpl.findpos = function(e) {\n",
       "    //this section is from http://www.quirksmode.org/js/events_properties.html\n",
       "    var targ;\n",
       "    if (!e)\n",
       "        e = window.event;\n",
       "    if (e.target)\n",
       "        targ = e.target;\n",
       "    else if (e.srcElement)\n",
       "        targ = e.srcElement;\n",
       "    if (targ.nodeType == 3) // defeat Safari bug\n",
       "        targ = targ.parentNode;\n",
       "\n",
       "    // jQuery normalizes the pageX and pageY\n",
       "    // pageX,Y are the mouse positions relative to the document\n",
       "    // offset() returns the position of the element relative to the document\n",
       "    var x = e.pageX - $(targ).offset().left;\n",
       "    var y = e.pageY - $(targ).offset().top;\n",
       "\n",
       "    return {\"x\": x, \"y\": y};\n",
       "};\n",
       "\n",
       "/*\n",
       " * return a copy of an object with only non-object keys\n",
       " * we need this to avoid circular references\n",
       " * http://stackoverflow.com/a/24161582/3208463\n",
       " */\n",
       "function simpleKeys (original) {\n",
       "  return Object.keys(original).reduce(function (obj, key) {\n",
       "    if (typeof original[key] !== 'object')\n",
       "        obj[key] = original[key]\n",
       "    return obj;\n",
       "  }, {});\n",
       "}\n",
       "\n",
       "mpl.figure.prototype.mouse_event = function(event, name) {\n",
       "    var canvas_pos = mpl.findpos(event)\n",
       "\n",
       "    if (name === 'button_press')\n",
       "    {\n",
       "        this.canvas.focus();\n",
       "        this.canvas_div.focus();\n",
       "    }\n",
       "\n",
       "    var x = canvas_pos.x;\n",
       "    var y = canvas_pos.y;\n",
       "\n",
       "    this.send_message(name, {x: x, y: y, button: event.button,\n",
       "                             step: event.step,\n",
       "                             guiEvent: simpleKeys(event)});\n",
       "\n",
       "    /* This prevents the web browser from automatically changing to\n",
       "     * the text insertion cursor when the button is pressed.  We want\n",
       "     * to control all of the cursor setting manually through the\n",
       "     * 'cursor' event from matplotlib */\n",
       "    event.preventDefault();\n",
       "    return false;\n",
       "}\n",
       "\n",
       "mpl.figure.prototype._key_event_extra = function(event, name) {\n",
       "    // Handle any extra behaviour associated with a key event\n",
       "}\n",
       "\n",
       "mpl.figure.prototype.key_event = function(event, name) {\n",
       "\n",
       "    // Prevent repeat events\n",
       "    if (name == 'key_press')\n",
       "    {\n",
       "        if (event.which === this._key)\n",
       "            return;\n",
       "        else\n",
       "            this._key = event.which;\n",
       "    }\n",
       "    if (name == 'key_release')\n",
       "        this._key = null;\n",
       "\n",
       "    var value = '';\n",
       "    if (event.ctrlKey && event.which != 17)\n",
       "        value += \"ctrl+\";\n",
       "    if (event.altKey && event.which != 18)\n",
       "        value += \"alt+\";\n",
       "    if (event.shiftKey && event.which != 16)\n",
       "        value += \"shift+\";\n",
       "\n",
       "    value += 'k';\n",
       "    value += event.which.toString();\n",
       "\n",
       "    this._key_event_extra(event, name);\n",
       "\n",
       "    this.send_message(name, {key: value,\n",
       "                             guiEvent: simpleKeys(event)});\n",
       "    return false;\n",
       "}\n",
       "\n",
       "mpl.figure.prototype.toolbar_button_onclick = function(name) {\n",
       "    if (name == 'download') {\n",
       "        this.handle_save(this, null);\n",
       "    } else {\n",
       "        this.send_message(\"toolbar_button\", {name: name});\n",
       "    }\n",
       "};\n",
       "\n",
       "mpl.figure.prototype.toolbar_button_onmouseover = function(tooltip) {\n",
       "    this.message.textContent = tooltip;\n",
       "};\n",
       "mpl.toolbar_items = [[\"Home\", \"Reset original view\", \"fa fa-home icon-home\", \"home\"], [\"Back\", \"Back to  previous view\", \"fa fa-arrow-left icon-arrow-left\", \"back\"], [\"Forward\", \"Forward to next view\", \"fa fa-arrow-right icon-arrow-right\", \"forward\"], [\"\", \"\", \"\", \"\"], [\"Pan\", \"Pan axes with left mouse, zoom with right\", \"fa fa-arrows icon-move\", \"pan\"], [\"Zoom\", \"Zoom to rectangle\", \"fa fa-square-o icon-check-empty\", \"zoom\"], [\"\", \"\", \"\", \"\"], [\"Download\", \"Download plot\", \"fa fa-floppy-o icon-save\", \"download\"]];\n",
       "\n",
       "mpl.extensions = [\"eps\", \"jpeg\", \"pdf\", \"png\", \"ps\", \"raw\", \"svg\", \"tif\"];\n",
       "\n",
       "mpl.default_extension = \"png\";var comm_websocket_adapter = function(comm) {\n",
       "    // Create a \"websocket\"-like object which calls the given IPython comm\n",
       "    // object with the appropriate methods. Currently this is a non binary\n",
       "    // socket, so there is still some room for performance tuning.\n",
       "    var ws = {};\n",
       "\n",
       "    ws.close = function() {\n",
       "        comm.close()\n",
       "    };\n",
       "    ws.send = function(m) {\n",
       "        //console.log('sending', m);\n",
       "        comm.send(m);\n",
       "    };\n",
       "    // Register the callback with on_msg.\n",
       "    comm.on_msg(function(msg) {\n",
       "        //console.log('receiving', msg['content']['data'], msg);\n",
       "        // Pass the mpl event to the overriden (by mpl) onmessage function.\n",
       "        ws.onmessage(msg['content']['data'])\n",
       "    });\n",
       "    return ws;\n",
       "}\n",
       "\n",
       "mpl.mpl_figure_comm = function(comm, msg) {\n",
       "    // This is the function which gets called when the mpl process\n",
       "    // starts-up an IPython Comm through the \"matplotlib\" channel.\n",
       "\n",
       "    var id = msg.content.data.id;\n",
       "    // Get hold of the div created by the display call when the Comm\n",
       "    // socket was opened in Python.\n",
       "    var element = $(\"#\" + id);\n",
       "    var ws_proxy = comm_websocket_adapter(comm)\n",
       "\n",
       "    function ondownload(figure, format) {\n",
       "        window.open(figure.imageObj.src);\n",
       "    }\n",
       "\n",
       "    var fig = new mpl.figure(id, ws_proxy,\n",
       "                           ondownload,\n",
       "                           element.get(0));\n",
       "\n",
       "    // Call onopen now - mpl needs it, as it is assuming we've passed it a real\n",
       "    // web socket which is closed, not our websocket->open comm proxy.\n",
       "    ws_proxy.onopen();\n",
       "\n",
       "    fig.parent_element = element.get(0);\n",
       "    fig.cell_info = mpl.find_output_cell(\"<div id='\" + id + \"'></div>\");\n",
       "    if (!fig.cell_info) {\n",
       "        console.error(\"Failed to find cell for figure\", id, fig);\n",
       "        return;\n",
       "    }\n",
       "\n",
       "    var output_index = fig.cell_info[2]\n",
       "    var cell = fig.cell_info[0];\n",
       "\n",
       "};\n",
       "\n",
       "mpl.figure.prototype.handle_close = function(fig, msg) {\n",
       "    fig.root.unbind('remove')\n",
       "\n",
       "    // Update the output cell to use the data from the current canvas.\n",
       "    fig.push_to_output();\n",
       "    var dataURL = fig.canvas.toDataURL();\n",
       "    // Re-enable the keyboard manager in IPython - without this line, in FF,\n",
       "    // the notebook keyboard shortcuts fail.\n",
       "    IPython.keyboard_manager.enable()\n",
       "    $(fig.parent_element).html('<img src=\"' + dataURL + '\">');\n",
       "    fig.close_ws(fig, msg);\n",
       "}\n",
       "\n",
       "mpl.figure.prototype.close_ws = function(fig, msg){\n",
       "    fig.send_message('closing', msg);\n",
       "    // fig.ws.close()\n",
       "}\n",
       "\n",
       "mpl.figure.prototype.push_to_output = function(remove_interactive) {\n",
       "    // Turn the data on the canvas into data in the output cell.\n",
       "    var dataURL = this.canvas.toDataURL();\n",
       "    this.cell_info[1]['text/html'] = '<img src=\"' + dataURL + '\">';\n",
       "}\n",
       "\n",
       "mpl.figure.prototype.updated_canvas_event = function() {\n",
       "    // Tell IPython that the notebook contents must change.\n",
       "    IPython.notebook.set_dirty(true);\n",
       "    this.send_message(\"ack\", {});\n",
       "    var fig = this;\n",
       "    // Wait a second, then push the new image to the DOM so\n",
       "    // that it is saved nicely (might be nice to debounce this).\n",
       "    setTimeout(function () { fig.push_to_output() }, 1000);\n",
       "}\n",
       "\n",
       "mpl.figure.prototype._init_toolbar = function() {\n",
       "    var fig = this;\n",
       "\n",
       "    var nav_element = $('<div/>')\n",
       "    nav_element.attr('style', 'width: 100%');\n",
       "    this.root.append(nav_element);\n",
       "\n",
       "    // Define a callback function for later on.\n",
       "    function toolbar_event(event) {\n",
       "        return fig.toolbar_button_onclick(event['data']);\n",
       "    }\n",
       "    function toolbar_mouse_event(event) {\n",
       "        return fig.toolbar_button_onmouseover(event['data']);\n",
       "    }\n",
       "\n",
       "    for(var toolbar_ind in mpl.toolbar_items){\n",
       "        var name = mpl.toolbar_items[toolbar_ind][0];\n",
       "        var tooltip = mpl.toolbar_items[toolbar_ind][1];\n",
       "        var image = mpl.toolbar_items[toolbar_ind][2];\n",
       "        var method_name = mpl.toolbar_items[toolbar_ind][3];\n",
       "\n",
       "        if (!name) { continue; };\n",
       "\n",
       "        var button = $('<button class=\"btn btn-default\" href=\"#\" title=\"' + name + '\"><i class=\"fa ' + image + ' fa-lg\"></i></button>');\n",
       "        button.click(method_name, toolbar_event);\n",
       "        button.mouseover(tooltip, toolbar_mouse_event);\n",
       "        nav_element.append(button);\n",
       "    }\n",
       "\n",
       "    // Add the status bar.\n",
       "    var status_bar = $('<span class=\"mpl-message\" style=\"text-align:right; float: right;\"/>');\n",
       "    nav_element.append(status_bar);\n",
       "    this.message = status_bar[0];\n",
       "\n",
       "    // Add the close button to the window.\n",
       "    var buttongrp = $('<div class=\"btn-group inline pull-right\"></div>');\n",
       "    var button = $('<button class=\"btn btn-mini btn-primary\" href=\"#\" title=\"Stop Interaction\"><i class=\"fa fa-power-off icon-remove icon-large\"></i></button>');\n",
       "    button.click(function (evt) { fig.handle_close(fig, {}); } );\n",
       "    button.mouseover('Stop Interaction', toolbar_mouse_event);\n",
       "    buttongrp.append(button);\n",
       "    var titlebar = this.root.find($('.ui-dialog-titlebar'));\n",
       "    titlebar.prepend(buttongrp);\n",
       "}\n",
       "\n",
       "mpl.figure.prototype._root_extra_style = function(el){\n",
       "    var fig = this\n",
       "    el.on(\"remove\", function(){\n",
       "\tfig.close_ws(fig, {});\n",
       "    });\n",
       "}\n",
       "\n",
       "mpl.figure.prototype._canvas_extra_style = function(el){\n",
       "    // this is important to make the div 'focusable\n",
       "    el.attr('tabindex', 0)\n",
       "    // reach out to IPython and tell the keyboard manager to turn it's self\n",
       "    // off when our div gets focus\n",
       "\n",
       "    // location in version 3\n",
       "    if (IPython.notebook.keyboard_manager) {\n",
       "        IPython.notebook.keyboard_manager.register_events(el);\n",
       "    }\n",
       "    else {\n",
       "        // location in version 2\n",
       "        IPython.keyboard_manager.register_events(el);\n",
       "    }\n",
       "\n",
       "}\n",
       "\n",
       "mpl.figure.prototype._key_event_extra = function(event, name) {\n",
       "    var manager = IPython.notebook.keyboard_manager;\n",
       "    if (!manager)\n",
       "        manager = IPython.keyboard_manager;\n",
       "\n",
       "    // Check for shift+enter\n",
       "    if (event.shiftKey && event.which == 13) {\n",
       "        this.canvas_div.blur();\n",
       "        event.shiftKey = false;\n",
       "        // Send a \"J\" for go to next cell\n",
       "        event.which = 74;\n",
       "        event.keyCode = 74;\n",
       "        manager.command_mode();\n",
       "        manager.handle_keydown(event);\n",
       "    }\n",
       "}\n",
       "\n",
       "mpl.figure.prototype.handle_save = function(fig, msg) {\n",
       "    fig.ondownload(fig, null);\n",
       "}\n",
       "\n",
       "\n",
       "mpl.find_output_cell = function(html_output) {\n",
       "    // Return the cell and output element which can be found *uniquely* in the notebook.\n",
       "    // Note - this is a bit hacky, but it is done because the \"notebook_saving.Notebook\"\n",
       "    // IPython event is triggered only after the cells have been serialised, which for\n",
       "    // our purposes (turning an active figure into a static one), is too late.\n",
       "    var cells = IPython.notebook.get_cells();\n",
       "    var ncells = cells.length;\n",
       "    for (var i=0; i<ncells; i++) {\n",
       "        var cell = cells[i];\n",
       "        if (cell.cell_type === 'code'){\n",
       "            for (var j=0; j<cell.output_area.outputs.length; j++) {\n",
       "                var data = cell.output_area.outputs[j];\n",
       "                if (data.data) {\n",
       "                    // IPython >= 3 moved mimebundle to data attribute of output\n",
       "                    data = data.data;\n",
       "                }\n",
       "                if (data['text/html'] == html_output) {\n",
       "                    return [cell, data, j];\n",
       "                }\n",
       "            }\n",
       "        }\n",
       "    }\n",
       "}\n",
       "\n",
       "// Register the function which deals with the matplotlib target/channel.\n",
       "// The kernel may be null if the page has been refreshed.\n",
       "if (IPython.notebook.kernel != null) {\n",
       "    IPython.notebook.kernel.comm_manager.register_target('matplotlib', mpl.mpl_figure_comm);\n",
       "}\n"
      ],
      "text/plain": [
       "<IPython.core.display.Javascript object>"
      ]
     },
     "metadata": {},
     "output_type": "display_data"
    },
    {
     "data": {
      "text/html": [
       "<img src=\"data:image/png;base64,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\">"
      ],
      "text/plain": [
       "<IPython.core.display.HTML object>"
      ]
     },
     "metadata": {},
     "output_type": "display_data"
    },
    {
     "data": {
      "text/plain": [
       "[<matplotlib.lines.Line2D at 0x11d021828>]"
      ]
     },
     "execution_count": 30,
     "metadata": {},
     "output_type": "execute_result"
    }
   ],
   "source": [
    "%matplotlib notebook\n",
    "plt.plot(np.argmax(prediction,1),'x-')\n",
    "plt.plot(np.argmax(ys_i,1),'o-')"
   ]
  },
  {
   "cell_type": "code",
   "execution_count": null,
   "metadata": {
    "collapsed": false
   },
   "outputs": [],
   "source": [
    "#save graph definition \n",
    "dst_nodes = ['Y']\n",
    "graph_def = tf.python.graph_util.convert_variables_to_constants(\n",
    "        sess, sess.graph_def, dst_nodes)"
   ]
  },
  {
   "cell_type": "code",
   "execution_count": null,
   "metadata": {
    "collapsed": false
   },
   "outputs": [],
   "source": [
    "g = tf.get_default_graph()\n",
    "[op.name for op in g.get_operations()]"
   ]
  },
  {
   "cell_type": "markdown",
   "metadata": {},
   "source": [
    "Now let's visualize the `W` tensor's weights for the first layer using the utils function `montage_filters` to inspect the performance of your network.  If many of the filters look uniform, then you know the network is either under or overperforming.  What you want to see are filters that look like they are responding to information such as edges or corners."
   ]
  },
  {
   "cell_type": "code",
   "execution_count": null,
   "metadata": {
    "collapsed": false
   },
   "outputs": [],
   "source": [
    "g = tf.get_default_graph()\n",
    "W = sess.run(g.get_tensor_by_name('1/W:0'))\n",
    "W.shape"
   ]
  },
  {
   "cell_type": "code",
   "execution_count": null,
   "metadata": {
    "collapsed": false
   },
   "outputs": [],
   "source": [
    "assert(W.dtype == np.float32)\n",
    "m = utils.montage_filters(W)\n",
    "plt.figure(figsize=(5, 5))\n",
    "plt.imshow(m)\n",
    "plt.imsave(arr=m, fname='audio.png')"
   ]
  },
  {
   "cell_type": "markdown",
   "metadata": {},
   "source": [
    "We can also look at every layer's filters using a loop:"
   ]
  },
  {
   "cell_type": "code",
   "execution_count": null,
   "metadata": {
    "collapsed": false
   },
   "outputs": [],
   "source": [
    "g = tf.get_default_graph()\n",
    "for layer_i in range(len(n_filters)):\n",
    "    W = sess.run(g.get_tensor_by_name('{}/W:0'.format(layer_i)))\n",
    "    plt.figure(figsize=(5, 5))\n",
    "    plt.imshow(utils.montage_filters(W))\n",
    "    plt.title('Layer {}\\'s Learned Convolution Kernels'.format(layer_i))"
   ]
  },
  {
   "cell_type": "code",
   "execution_count": null,
   "metadata": {
    "collapsed": false
   },
   "outputs": [],
   "source": [
    "now = datetime.datetime.now()\n",
    "save_path = saver.save(sess, \"./models/string_convnet_\"+ now.strftime(\"%Y%m%d_%H%M\") + \".ckpt\")\n",
    "print(\"Model saved in file: %s\" % save_path)"
   ]
  },
  {
   "cell_type": "code",
   "execution_count": null,
   "metadata": {
    "collapsed": false
   },
   "outputs": [],
   "source": [
    "pitch.shape"
   ]
  },
  {
   "cell_type": "code",
   "execution_count": null,
   "metadata": {
    "collapsed": false
   },
   "outputs": [],
   "source": [
    "scoreL=119\n",
    "if (joinWithPitch):\n",
    "    Xs_i=np.zeros(shape=(scoreL,41,windowSize,1))\n",
    "    ys_i=np.zeros(shape=(scoreL))\n",
    "    for i in range(scoreL):\n",
    "        Xs_i[i,0:-1,:,0]=energyBand[:,i*windowSize:i*windowSize+windowSize]\n",
    "        Xs_i[i,-1,:,0]=np.average(pitch[i*windowSize:i*windowSize+windowSize])\n",
    "        ys_i[i]=round(statistics.median(string[i*windowSize:i*windowSize+windowSize]))\n",
    "else:\n",
    "    Xs_i=np.zeros(shape=(scoreL,40,windowSize,1))\n",
    "    ys_i=np.zeros(shape=(scoreL))\n",
    "    for i in range(scoreL):\n",
    "        Xs_i[i,:,:,0]=energyBand[:,i*windowSize:i*windowSize+windowSize]\n",
    "        #avgString=round(statistics.median(string[(hop_i * hopSize):(hop_i * hopSize + windowSize)]))\n",
    "        ys_i[i]=round(statistics.median(string[i*windowSize:i*windowSize+windowSize]))\n",
    "print(\"Xs_i.shape:\", Xs_i.shape, \", ys_i.shape:\", ys_i.shape)"
   ]
  },
  {
   "cell_type": "code",
   "execution_count": null,
   "metadata": {
    "collapsed": false
   },
   "outputs": [],
   "source": [
    "if (joinWithPitch):\n",
    "    prediction = sess.run([predicted_y], feed_dict={X:Xs_i[:,0:-1], X_pitch:Xs_i[:,-1:,0,0]})[0]\n",
    "else:\n",
    "    #prediction = sess.run([Y_pred], feed_dict={X:Xs_i})[0]\n",
    "    prediction=sess.run([predicted_y], feed_dict={X:Xs_i})[0] #, keep_prob: 1.0\n",
    "#linPrediction = np.reshape(prediction, (np.product(prediction.shape)))\n",
    "#linOriginal = np.reshape(ys_i, (np.product(ys_i.shape)))\n",
    "#prediction.shape"
   ]
  },
  {
   "cell_type": "code",
   "execution_count": null,
   "metadata": {
    "collapsed": false
   },
   "outputs": [],
   "source": [
    "%matplotlib notebook\n",
    "plt.plot(ys_i)\n",
    "plt.plot(prediction,'x-')\n",
    "plt.ylim((0, 5))"
   ]
  },
  {
   "cell_type": "code",
   "execution_count": null,
   "metadata": {
    "collapsed": false
   },
   "outputs": [],
   "source": [
    "plt.plot(ys_i)"
   ]
  },
  {
   "cell_type": "code",
   "execution_count": null,
   "metadata": {
    "collapsed": true
   },
   "outputs": [],
   "source": [
    "prediction=sess.run([Y_pred], feed_dict={X:Xs_i})[0] #, keep_prob: 1.0 "
   ]
  },
  {
   "cell_type": "code",
   "execution_count": null,
   "metadata": {
    "collapsed": false
   },
   "outputs": [],
   "source": [
    "prediction.shape"
   ]
  },
  {
   "cell_type": "code",
   "execution_count": null,
   "metadata": {
    "collapsed": true
   },
   "outputs": [],
   "source": []
  }
 ],
 "metadata": {
  "kernelspec": {
   "display_name": "Python 3",
   "language": "python",
   "name": "python3"
  },
  "language_info": {
   "codemirror_mode": {
    "name": "ipython",
    "version": 3
   },
   "file_extension": ".py",
   "mimetype": "text/x-python",
   "name": "python",
   "nbconvert_exporter": "python",
   "pygments_lexer": "ipython3",
   "version": "3.5.2"
  }
 },
 "nbformat": 4,
 "nbformat_minor": 0
}
