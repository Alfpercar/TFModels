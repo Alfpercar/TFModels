{
 "cells": [
  {
   "cell_type": "code",
   "execution_count": 91,
   "metadata": {
    "collapsed": false
   },
   "outputs": [],
   "source": [
    "from sklearn import tree\n",
    "from sklearn.ensemble import RandomForestClassifier\n",
    "import numpy as np\n",
    "import statistics\n",
    "import pydotplus \n",
    "from matplotlib import pyplot as plt\n",
    "from IPython.display import Image \n",
    "#import pickle                       #save model to disk\n",
    "from sklearn.externals import joblib #save model to disk\n",
    "import datetime"
   ]
  },
  {
   "cell_type": "code",
   "execution_count": 52,
   "metadata": {
    "collapsed": false
   },
   "outputs": [],
   "source": [
    "%matplotlib inline\n",
    "plt.style.use('ggplot')"
   ]
  },
  {
   "cell_type": "code",
   "execution_count": 98,
   "metadata": {
    "collapsed": true
   },
   "outputs": [],
   "source": [
    "#resources_dir = \"/Users/alfonso/code/violinDemos/ViolinTrainer/resources/MacMic_MyViolin/\"\n",
    "resources_dir = \"/Users/alfonso/code/violinDemos/ViolinTrainer/resources/\"\n",
    "resource = ['Scarlett_MyViolin', \n",
    "            'Scarlett_MyViolin', \n",
    "            'Scarlett_V1',\n",
    "            'MacMic_MyViolin',\n",
    "            'MacMic_MyViolin',\n",
    "            'MacMic_MyViolin',\n",
    "            'MacMic_V2',\n",
    "            'MacMic_ViolinYamaha'\n",
    "           ]\n",
    "filenames = [\n",
    "    ['BackNoiseMaia', 'EStringScaleVibrato', 'AStringScaleVibrato', 'DStringScaleVibrato', 'GStringScaleVibrato'],\n",
    "    ['BackNoiseMaia', 'EStringGliss', 'AStringGliss', 'DStringGliss', 'GStringGliss'],\n",
    "    ['Silence', 'EString', 'AString', 'DString', 'GString'],\n",
    "    ['Silence01', 'EString01', 'AString01', 'DString01', 'GString01'],\n",
    "    ['BackNoiseMaia', 'EStringScaleVibrato', 'AStringScaleVibrato', 'DStringScaleVibrato', 'GStringScaleVibrato'],\n",
    "    ['BackNoiseMaia', 'EStringGliss', 'AStringGliss', 'DStringGliss', 'GStringGliss'],\n",
    "    ['Silence', 'EString', 'AString', 'DString', 'GString'],\n",
    "    ['Silence01', 'EString01', 'AString01', 'DString01', 'GString01'],\n",
    "]"
   ]
  },
  {
   "cell_type": "code",
   "execution_count": 99,
   "metadata": {
    "collapsed": false
   },
   "outputs": [
    {
     "name": "stdout",
     "output_type": "stream",
     "text": [
      "('Xs.shape:', (600278, 40), ', ys.shape:', (600278,))\n"
     ]
    }
   ],
   "source": [
    "# prepare dataset\n",
    "# ------------- prepare dataset\n",
    "Xs = []\n",
    "ys = []\n",
    "[n_recordings, n_strings] = np.array(filenames).shape\n",
    "\n",
    "for iRecording in range (0, n_recordings):\n",
    "    for iString in range(0, n_strings):\n",
    "        inputFile = resources_dir + resource[iRecording] + \"/\" + filenames[iRecording][iString] + '.16bit-EnergyBankFilter.txt'\n",
    "        #print(\"reading File: \", inputFile)\n",
    "        energy_bands_dB = np.loadtxt(inputFile, skiprows=0).T\n",
    "        #energy_bands= (energy_bands /120 )+1 #normalize [0-1]\n",
    "        energy_bands = 10**(energy_bands_dB/20)\n",
    "        rmsEnergy_dB=20*np.log10(np.sqrt(np.mean(energy_bands**2,0)))\n",
    "        target = np.ones(energy_bands.shape[1]) * (iString)\n",
    "        energy_bands_norm= energy_bands_dB / rmsEnergy_dB\n",
    "        energy_bands_norm = energy_bands_norm /4\n",
    "\n",
    "        n_frames = energy_bands.shape[1]\n",
    "        for frame_i in range(n_frames):\n",
    "            # Creating our sliding window\n",
    "            frames = energy_bands_norm[:, frame_i]\n",
    "            avgString = target[frame_i]\n",
    "            Xs.append(frames)\n",
    "            ys.append(int(avgString))\n",
    "  \n",
    "Xs = np.array(Xs)\n",
    "ys = np.array(ys)\n",
    "print(\"Xs.shape:\", Xs.shape, \", ys.shape:\", ys.shape)"
   ]
  },
  {
   "cell_type": "markdown",
   "metadata": {},
   "source": [
    "As with other classifiers, DecisionTreeClassifier takes as input two arrays: an array X, sparse or dense, of size [n_samples, n_features] holding the training samples, and an array Y of integer values, size [n_samples], holding the class labels for the training samples:"
   ]
  },
  {
   "cell_type": "code",
   "execution_count": 132,
   "metadata": {
    "collapsed": false
   },
   "outputs": [
    {
     "name": "stdout",
     "output_type": "stream",
     "text": [
      "random forests\n"
     ]
    }
   ],
   "source": [
    "doRandomForests = 1\n",
    "if doRandomForests:\n",
    "    print('random forests')\n",
    "    mtype='randomForests'\n",
    "    clf = RandomForestClassifier(n_estimators=10)\n",
    "else:\n",
    "    mtype='decissionTree'\n",
    "    clf = tree.DecisionTreeClassifier()\n",
    "clf = clf.fit(Xs, ys)"
   ]
  },
  {
   "cell_type": "code",
   "execution_count": 133,
   "metadata": {
    "collapsed": false
   },
   "outputs": [
    {
     "data": {
      "text/plain": [
       "['./models/string_randomForests_20170418_1826.pkl']"
      ]
     },
     "execution_count": 133,
     "metadata": {},
     "output_type": "execute_result"
    }
   ],
   "source": [
    "#save model to disk\n",
    "now = datetime.datetime.now()\n",
    "save_path = \"./models/string_\" + mtype + \"_\" + now.strftime(\"%Y%m%d_%H%M\") + \".pkl\"\n",
    "joblib.dump(clf, save_path) #'decissionTree.pkl')"
   ]
  },
  {
   "cell_type": "markdown",
   "metadata": {},
   "source": [
    "if we have Python module pydotplus installed, we can generate a PDF file (or any other supported file type) directly in Python."
   ]
  },
  {
   "cell_type": "code",
   "execution_count": 93,
   "metadata": {
    "collapsed": false
   },
   "outputs": [
    {
     "data": {
      "text/plain": [
       "True"
      ]
     },
     "execution_count": 93,
     "metadata": {},
     "output_type": "execute_result"
    }
   ],
   "source": [
    "dot_data = tree.export_graphviz(clf, out_file=None,\n",
    "                         feature_names=['B1','B2','B3','B4','B5','B6','B7','B8','B9',\n",
    "                                       'B10','B11','B12','B13','B14','B15','B16','B17','B18','B19',\n",
    "                                       'B20','B21','B22','B23','B24','B25','B26','B27','B28','B29',\n",
    "                                       'B30','B31','B32','B33','B34','B35','B36','B37','B38','B39','B40'],  \n",
    "                         class_names=['XX', 'S1','S2','S3','S4'],  \n",
    "                         filled=True, rounded=True,  \n",
    "                         special_characters=True)\n",
    "graph = pydotplus.graph_from_dot_data(dot_data) \n",
    "graph.write_pdf(\"string_random.pdf\") \n",
    "#Image(graph.create_png()) "
   ]
  },
  {
   "cell_type": "markdown",
   "metadata": {},
   "source": [
    "The export_graphviz exporter also supports a variety of aesthetic options, including coloring nodes by their class (or value for regression) and using explicit variable and class names if desired. IPython notebooks can also render these plots inline using the Image() function:"
   ]
  },
  {
   "cell_type": "markdown",
   "metadata": {},
   "source": [
    "------ prediction ----\n",
    "\n",
    "After being fitted, the model can then be used to predict the class of samples. Alternatively, the probability of each class can be predicted, which is the fraction of training samples of the same class in a leaf:"
   ]
  },
  {
   "cell_type": "code",
   "execution_count": 134,
   "metadata": {
    "collapsed": false
   },
   "outputs": [
    {
     "name": "stdout",
     "output_type": "stream",
     "text": [
      "('reading File: ', '/Users/alfonso/code/violinDemos/ViolinTrainer/resources/Scarlett_MyViolin/EStringScaleVibrato.16bit-EnergyBankFilter.txt')\n",
      "('Xs_i_test.shape:', (22080, 40), ', ys_i_test.shape:', (22080,))\n"
     ]
    }
   ],
   "source": [
    "Xs_i_test = []\n",
    "ys_i_test = []\n",
    "\n",
    "iRecording = 0\n",
    "iString= 1\n",
    "#inputFile = resources_dir + resource[iRecording] + \"/\" + filenames[iRecording][iString] + '.16bit-EnergyBankFilter.txt'\n",
    "inputFile = resources_dir + 'Scarlett_MyViolin/' + filenames[iRecording][iString]  + '.16bit-EnergyBankFilter.txt'\n",
    "print(\"reading File: \", inputFile)\n",
    "energy_bands_dB = np.loadtxt(inputFile, skiprows=0).T\n",
    "#energy_bands= (energy_bands /120 )+1 #normalize [0-1]\n",
    "energy_bands = 10**(energy_bands_dB/20)\n",
    "rmsEnergy_dB=20*np.log10(np.sqrt(np.mean(energy_bands**2,0)))\n",
    "target = np.ones(energy_bands.shape[1]) * (iString)\n",
    "energy_bands_norm= energy_bands_dB / rmsEnergy_dB\n",
    "energy_bands_norm = energy_bands_norm /4\n",
    "\n",
    "n_frames = energy_bands.shape[1]\n",
    "for frame_i in range(n_frames):\n",
    "    # Creating our sliding window\n",
    "    frames = energy_bands_norm[:, frame_i]\n",
    "    avgString = target[frame_i]\n",
    "    Xs_i_test.append(frames)\n",
    "    ys_i_test.append(int(avgString))\n",
    "  \n",
    "Xs_i_test = np.array(Xs_i_test)\n",
    "ys_i_test = np.array(ys_i_test)\n",
    "print(\"Xs_i_test.shape:\", Xs_i_test.shape, \", ys_i_test.shape:\", ys_i_test.shape)"
   ]
  },
  {
   "cell_type": "code",
   "execution_count": 135,
   "metadata": {
    "collapsed": false
   },
   "outputs": [
    {
     "name": "stdout",
     "output_type": "stream",
     "text": [
      "('accuracy: ', 0.99877717391304344)\n"
     ]
    }
   ],
   "source": [
    "#load model from disk\n",
    "#clf2=joblib.load(clf, 'decissionTree.pkl')\n",
    "prediction=clf.predict(Xs_i_test)\n",
    "#clf.predict_proba([[2., 2.]])\n",
    "test_correct_prediction = prediction == ys_i_test\n",
    "test_accuracy= np.mean(test_correct_prediction)\n",
    "print(\"accuracy: \", test_accuracy)"
   ]
  },
  {
   "cell_type": "code",
   "execution_count": 136,
   "metadata": {
    "collapsed": false
   },
   "outputs": [
    {
     "data": {
      "text/plain": [
       "(-0.5, 4.5)"
      ]
     },
     "execution_count": 136,
     "metadata": {},
     "output_type": "execute_result"
    },
    {
     "data": {
      "image/png": "[encoded data removed]",
      "text/plain": [
       "<matplotlib.figure.Figure at 0x11133e150>"
      ]
     },
     "metadata": {},
     "output_type": "display_data"
    }
   ],
   "source": [
    "plt.plot(prediction)\n",
    "axes = plt.gca()\n",
    "axes.set_ylim([-0.5,4.5])\n",
    "#plt.plot(ys_i_test)"
   ]
  },
  {
   "cell_type": "code",
   "execution_count": null,
   "metadata": {
    "collapsed": true
   },
   "outputs": [],
   "source": []
  }
 ],
 "metadata": {
  "kernelspec": {
   "display_name": "Python 2",
   "language": "python",
   "name": "python2"
  },
  "language_info": {
   "codemirror_mode": {
    "name": "ipython",
    "version": 2
   },
   "file_extension": ".py",
   "mimetype": "text/x-python",
   "name": "python",
   "nbconvert_exporter": "python",
   "pygments_lexer": "ipython2",
   "version": "2.7.12"
  }
 },
 "nbformat": 4,
 "nbformat_minor": 0
}
