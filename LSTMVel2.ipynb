{
 "cells": [
  {
   "cell_type": "code",
   "execution_count": 48,
   "metadata": {
    "collapsed": false
   },
   "outputs": [],
   "source": [
    "import tensorflow as tf\n",
    "from tensorflow.python.ops import rnn, rnn_cell\n",
    "import os\n",
    "import scipy.io\n",
    "import numpy as np\n",
    "import statistics, math\n",
    "import matplotlib.pyplot as plt\n",
    "from libs import util_matlab as umatlab\n",
    "from libs import datasets, dataset_utils, utils\n",
    "from sklearn import preprocessing\n",
    "# We'll tell matplotlib to inline any drawn figures like so:\n",
    "%matplotlib inline\n",
    "plt.style.use('ggplot')"
   ]
  },
  {
   "cell_type": "markdown",
   "metadata": {},
   "source": [
    "Read Data"
   ]
  },
  {
   "cell_type": "code",
   "execution_count": 53,
   "metadata": {
    "collapsed": false
   },
   "outputs": [
    {
     "name": "stdout",
     "output_type": "stream",
     "text": [
      "windowSize 60\n"
     ]
    }
   ],
   "source": [
    "data_dir=\"/Users/alfonso/matlab/IndirectAcquisition/keras/dataforMarius/export\"\n",
    "files = [os.path.join(data_dir, file_i) for file_i in os.listdir(data_dir) if file_i.endswith('.mat')]\n",
    "\n",
    "matlabStruct=umatlab.loadmat(files[1]).get('data')\n",
    "energyBand=matlabStruct.get('energyBand')\n",
    "energyBandStd = preprocessing.scale(energyBand)\n",
    "energyBand_min_max_scaler = preprocessing.minmax_scale(energyBand)\n",
    "energyBand=(energyBand /120 )+1 #normalize [0-1]\n",
    "totalSecs=matlabStruct.get('waveIn').shape[0]/matlabStruct.get('audioSR')\n",
    "energyBands_sr=energyBand.shape[1]/totalSecs #This is around 100Hz-10ms\n",
    "controlNames=matlabStruct.get('controlNames')\n",
    "controlData=matlabStruct.get('controlData')\n",
    "\n",
    "indexVel=[i for i in range(controlNames.shape[0]) if controlNames[i] == 'abs(velocity)'][0]\n",
    "indexForce=[i for i in range(controlNames.shape[0]) if controlNames[i] == 'forceN'][0]\n",
    "velocity=controlData[indexVel,:]/150\n",
    "force=(controlData[indexForce,:]+0.2)/2\n",
    "\n",
    "#string=controlData[0,:]\n",
    "#pitch=controlData[6,:]/1500\n",
    "\n",
    "# We want 500? milliseconds of audio in our window\n",
    "windowSize=int((0.25*energyBands_sr)//2*2)\n",
    "# And we'll move our window by 250 ms at a time\n",
    "hopSize=windowSize//2\n",
    "n_hops = (energyBand.shape[1]) // hopSize\n",
    "print('windowSize', windowSize)"
   ]
  },
  {
   "cell_type": "markdown",
   "metadata": {},
   "source": [
    "Build dataset"
   ]
  },
  {
   "cell_type": "code",
   "execution_count": 54,
   "metadata": {
    "collapsed": false
   },
   "outputs": [
    {
     "data": {
      "text/plain": [
       "[<matplotlib.lines.Line2D at 0x12d69d2b0>]"
      ]
     },
     "execution_count": 54,
     "metadata": {},
     "output_type": "execute_result"
    },
    {
     "data": {
      "image/png": "[encoded data removed]",
      "text/plain": [
       "<matplotlib.figure.Figure at 0x12ea61cc0>"
      ]
     },
     "metadata": {},
     "output_type": "display_data"
    }
   ],
   "source": [
    "plt.plot(energyBand[:,100])\n",
    "plt.plot(energyBandStd[:,100])\n",
    "plt.plot(energyBand_min_max_scaler[:,100])"
   ]
  },
  {
   "cell_type": "code",
   "execution_count": 3,
   "metadata": {
    "collapsed": false
   },
   "outputs": [
    {
     "data": {
      "text/plain": [
       "array(['string', 'abs(velocity)', 'forceN', 'acc(abs(vel)', 'tilt', 'bbd',\n",
       "       'pitch', 'rms'], dtype=object)"
      ]
     },
     "execution_count": 3,
     "metadata": {},
     "output_type": "execute_result"
    }
   ],
   "source": [
    "controlNames"
   ]
  },
  {
   "cell_type": "code",
   "execution_count": 4,
   "metadata": {
    "collapsed": false
   },
   "outputs": [
    {
     "name": "stdout",
     "output_type": "stream",
     "text": [
      "(18787, 60, 40) (18787, 60)\n"
     ]
    }
   ],
   "source": [
    "Xs = []\n",
    "ys = []\n",
    "n_input=energyBand.shape[0]\n",
    "# Let's start with the music files\n",
    "for filename in files:\n",
    "    #print(filename)\n",
    "    matlabStruct=umatlab.loadmat(filename).get('data')\n",
    "    energyBand=(matlabStruct.get('energyBand')/120)+1\n",
    "    controlData=matlabStruct.get('controlData')\n",
    "    controlNames=matlabStruct.get('controlNames')\n",
    "    target=controlData[indexVel,:]/150\n",
    "    #target=(controlData[indexForce,:]+0.2)/2\n",
    "    \n",
    "    n_hops = (energyBand.shape[1]) // hopSize\n",
    "    \n",
    "    #print(n_frames_per_second, n_frames, frame_hops, n_hops)\n",
    "    n_hops=int(n_hops)-1\n",
    "    for hop_i in range(n_hops):\n",
    "        # Creating our sliding window\n",
    "        frames = energyBand[:,(hop_i * hopSize):(hop_i * hopSize + windowSize)]\n",
    "        Xs.append(frames.T) #[..., np.newaxis])\n",
    "        # And then store the vel \n",
    "        ys.append(target[(hop_i * hopSize):(hop_i * hopSize + windowSize)])\n",
    "\n",
    "Xs = np.array(Xs)\n",
    "ys = np.array(ys)\n",
    "print(Xs.shape, ys.shape)"
   ]
  },
  {
   "cell_type": "code",
   "execution_count": 5,
   "metadata": {
    "collapsed": true
   },
   "outputs": [],
   "source": [
    "n_observations, sequence_L, n_inputs = Xs.shape"
   ]
  },
  {
   "cell_type": "code",
   "execution_count": 6,
   "metadata": {
    "collapsed": true
   },
   "outputs": [],
   "source": [
    "ds = datasets.Dataset(Xs=Xs, ys=ys, split=[0.8, 0.1, 0.1], n_classes=0)"
   ]
  },
  {
   "cell_type": "code",
   "execution_count": 55,
   "metadata": {
    "collapsed": false
   },
   "outputs": [
    {
     "name": "stdout",
     "output_type": "stream",
     "text": [
      "(100, 60, 40) (100, 60)\n"
     ]
    }
   ],
   "source": [
    "Xs_i, ys_i = next(ds.train.next_batch())\n",
    "\n",
    "# Notice the shape this returns.  This will become the shape of our input and output of the network:\n",
    "print(Xs_i.shape, ys_i.shape)"
   ]
  },
  {
   "cell_type": "code",
   "execution_count": 8,
   "metadata": {
    "collapsed": false
   },
   "outputs": [
    {
     "data": {
      "text/plain": [
       "<matplotlib.image.AxesImage at 0x11e4f0358>"
      ]
     },
     "execution_count": 8,
     "metadata": {},
     "output_type": "execute_result"
    },
    {
     "data": {
      "image/png": "[encoded data removed]",
      "text/plain": [
       "<matplotlib.figure.Figure at 0x11d52f2b0>"
      ]
     },
     "metadata": {},
     "output_type": "display_data"
    }
   ],
   "source": [
    "plt.imshow(Xs_i[1,1:18,1:40])"
   ]
  },
  {
   "cell_type": "code",
   "execution_count": 69,
   "metadata": {
    "collapsed": false
   },
   "outputs": [],
   "source": [
    "# Parameters\n",
    "learning_rate = 0.001\n",
    "training_iters = 100000\n",
    "batch_size = 128\n",
    "display_step = 10\n",
    "\n",
    "\n",
    "# Network Parameters\n",
    "n_inputs = energyBand.shape[0] # spectral data input (bands: 40)\n",
    "sequence_length = windowSize\n",
    "n_cells = 128 # hidden layer num of features\n",
    "#n_classes = 10 # MNIST total classes (0-9 digits)\n",
    "n_layers=1\n",
    "\n",
    "# tf Graph input\n",
    "tf.reset_default_graph()\n",
    "X = tf.placeholder(tf.float32, [None, sequence_length, n_inputs], name='X')\n",
    "# We'll have a placeholder for our true outputs\n",
    "Y = tf.placeholder(tf.float32, [None, sequence_length], name='Y')\n",
    "\n",
    "# Define weights\n",
    "weights = {\n",
    "    'out': tf.Variable(tf.random_normal([n_cells, sequence_length]))\n",
    "}\n",
    "biases = {\n",
    "    'out': tf.Variable(tf.random_normal([sequence_length]))\n",
    "}\n",
    "#or...\n",
    "#with tf.variable_scope('prediction'):\n",
    "#    W = tf.get_variable(\n",
    "#        \"W\",\n",
    "#        shape=[n_cells, n_chars],\n",
    "#        initializer=tf.random_normal_initializer(stddev=0.1))\n",
    "#    b = tf.get_variable(\n",
    "#        \"b\",\n",
    "#        shape=[n_chars],\n",
    "#        initializer=tf.random_normal_initializer(stddev=0.1))"
   ]
  },
  {
   "cell_type": "code",
   "execution_count": 70,
   "metadata": {
    "collapsed": false
   },
   "outputs": [
    {
     "ename": "TypeError",
     "evalue": "inputs must be a list",
     "output_type": "error",
     "traceback": [
      "\u001b[0;31m---------------------------------------------------------------------------\u001b[0m",
      "\u001b[0;31mTypeError\u001b[0m                                 Traceback (most recent call last)",
      "\u001b[0;32m<ipython-input-70-d0b2c1119d2d>\u001b[0m in \u001b[0;36m<module>\u001b[0;34m()\u001b[0m\n\u001b[1;32m     32\u001b[0m     \u001b[0;32mreturn\u001b[0m \u001b[0mtf\u001b[0m\u001b[0;34m.\u001b[0m\u001b[0mmatmul\u001b[0m\u001b[0;34m(\u001b[0m\u001b[0moutputs\u001b[0m\u001b[0;34m[\u001b[0m\u001b[0;34m-\u001b[0m\u001b[0;36m1\u001b[0m\u001b[0;34m]\u001b[0m\u001b[0;34m,\u001b[0m \u001b[0mweights\u001b[0m\u001b[0;34m[\u001b[0m\u001b[0;34m'out'\u001b[0m\u001b[0;34m]\u001b[0m\u001b[0;34m)\u001b[0m \u001b[0;34m+\u001b[0m \u001b[0mbiases\u001b[0m\u001b[0;34m[\u001b[0m\u001b[0;34m'out'\u001b[0m\u001b[0;34m]\u001b[0m\u001b[0;34m\u001b[0m\u001b[0m\n\u001b[1;32m     33\u001b[0m \u001b[0;34m\u001b[0m\u001b[0m\n\u001b[0;32m---> 34\u001b[0;31m \u001b[0mpred\u001b[0m \u001b[0;34m=\u001b[0m \u001b[0mRNN\u001b[0m\u001b[0;34m(\u001b[0m\u001b[0mX\u001b[0m\u001b[0;34m,\u001b[0m \u001b[0mweights\u001b[0m\u001b[0;34m,\u001b[0m \u001b[0mbiases\u001b[0m\u001b[0;34m)\u001b[0m\u001b[0;34m\u001b[0m\u001b[0m\n\u001b[0m\u001b[1;32m     35\u001b[0m \u001b[0;34m\u001b[0m\u001b[0m\n\u001b[1;32m     36\u001b[0m \u001b[0;31m# Define loss and optimizer\u001b[0m\u001b[0;34m\u001b[0m\u001b[0;34m\u001b[0m\u001b[0m\n",
      "\u001b[0;32m<ipython-input-70-d0b2c1119d2d>\u001b[0m in \u001b[0;36mRNN\u001b[0;34m(x, weights, biases)\u001b[0m\n\u001b[1;32m     27\u001b[0m         \u001b[0mlstm_cells\u001b[0m \u001b[0;34m=\u001b[0m \u001b[0mtf\u001b[0m\u001b[0;34m.\u001b[0m\u001b[0mnn\u001b[0m\u001b[0;34m.\u001b[0m\u001b[0mrnn_cell\u001b[0m\u001b[0;34m.\u001b[0m\u001b[0mLSTMCell\u001b[0m\u001b[0;34m(\u001b[0m\u001b[0mn_cells\u001b[0m\u001b[0;34m,\u001b[0m \u001b[0minitializer\u001b[0m\u001b[0;34m=\u001b[0m\u001b[0minit\u001b[0m\u001b[0;34m,\u001b[0m \u001b[0mstate_is_tuple\u001b[0m\u001b[0;34m=\u001b[0m\u001b[0;32mTrue\u001b[0m\u001b[0;34m)\u001b[0m\u001b[0;34m\u001b[0m\u001b[0m\n\u001b[1;32m     28\u001b[0m     \u001b[0;31m# Get lstm cell output\u001b[0m\u001b[0;34m\u001b[0m\u001b[0;34m\u001b[0m\u001b[0m\n\u001b[0;32m---> 29\u001b[0;31m     \u001b[0moutputs\u001b[0m\u001b[0;34m,\u001b[0m \u001b[0mstates\u001b[0m \u001b[0;34m=\u001b[0m \u001b[0mrnn\u001b[0m\u001b[0;34m.\u001b[0m\u001b[0mrnn\u001b[0m\u001b[0;34m(\u001b[0m\u001b[0mlstm_cells\u001b[0m\u001b[0;34m,\u001b[0m \u001b[0mx\u001b[0m\u001b[0;34m,\u001b[0m \u001b[0mdtype\u001b[0m\u001b[0;34m=\u001b[0m\u001b[0mtf\u001b[0m\u001b[0;34m.\u001b[0m\u001b[0mfloat32\u001b[0m\u001b[0;34m)\u001b[0m\u001b[0;34m\u001b[0m\u001b[0m\n\u001b[0m\u001b[1;32m     30\u001b[0m \u001b[0;34m\u001b[0m\u001b[0m\n\u001b[1;32m     31\u001b[0m     \u001b[0;31m# Linear activation, using rnn inner loop last output\u001b[0m\u001b[0;34m\u001b[0m\u001b[0;34m\u001b[0m\u001b[0m\n",
      "\u001b[0;32m/Users/alfonso/anaconda/lib/python3.5/site-packages/tensorflow/python/ops/rnn.py\u001b[0m in \u001b[0;36mrnn\u001b[0;34m(cell, inputs, initial_state, dtype, sequence_length, scope)\u001b[0m\n\u001b[1;32m     96\u001b[0m     \u001b[0;32mraise\u001b[0m \u001b[0mTypeError\u001b[0m\u001b[0;34m(\u001b[0m\u001b[0;34m\"cell must be an instance of RNNCell\"\u001b[0m\u001b[0;34m)\u001b[0m\u001b[0;34m\u001b[0m\u001b[0m\n\u001b[1;32m     97\u001b[0m   \u001b[0;32mif\u001b[0m \u001b[0;32mnot\u001b[0m \u001b[0misinstance\u001b[0m\u001b[0;34m(\u001b[0m\u001b[0minputs\u001b[0m\u001b[0;34m,\u001b[0m \u001b[0mlist\u001b[0m\u001b[0;34m)\u001b[0m\u001b[0;34m:\u001b[0m\u001b[0;34m\u001b[0m\u001b[0m\n\u001b[0;32m---> 98\u001b[0;31m     \u001b[0;32mraise\u001b[0m \u001b[0mTypeError\u001b[0m\u001b[0;34m(\u001b[0m\u001b[0;34m\"inputs must be a list\"\u001b[0m\u001b[0;34m)\u001b[0m\u001b[0;34m\u001b[0m\u001b[0m\n\u001b[0m\u001b[1;32m     99\u001b[0m   \u001b[0;32mif\u001b[0m \u001b[0;32mnot\u001b[0m \u001b[0minputs\u001b[0m\u001b[0;34m:\u001b[0m\u001b[0;34m\u001b[0m\u001b[0m\n\u001b[1;32m    100\u001b[0m     \u001b[0;32mraise\u001b[0m \u001b[0mValueError\u001b[0m\u001b[0;34m(\u001b[0m\u001b[0;34m\"inputs must not be empty\"\u001b[0m\u001b[0;34m)\u001b[0m\u001b[0;34m\u001b[0m\u001b[0m\n",
      "\u001b[0;31mTypeError\u001b[0m: inputs must be a list"
     ]
    }
   ],
   "source": [
    "def RNN(x, weights, biases):\n",
    "\n",
    "    # Prepare data shape to match `rnn` function requirements\n",
    "    # Current data input shape: (batch_size, sequence_length, n_inputs)\n",
    "    # Required shape: 'sequence_length' tensors list of shape (batch_size, n_inputs)\n",
    "    \n",
    "    # Permuting batch_size and n_steps\n",
    "    x = tf.transpose(x, [1, 0, 2]) #sequence_length, batch_size. n_inputs\n",
    "    # Reshaping to (sequence_length*batch_size, n_inputs)\n",
    "    x = tf.reshape(x, [-1, n_inputs])\n",
    "    # Split to get a list of 'sequence_length' tensors of shape (batch_size, n_inputs)\n",
    "    x = tf.split(0, sequence_length, x)\n",
    "    \n",
    "    \n",
    "    if n_layers > 1:\n",
    "        #lstm_cells = tf.nn.rnn_cell.MultiRNNCell([n_cells] * n_layers, state_is_tuple=True)\n",
    "        #initial_state = lstm_cells.zero_state(tf.shape(X)[0], tf.float32)\n",
    "        basic_cells = lstm_cells = rnn_cell.BasicLSTMCell(n_cells, state_is_tuple=True, forget_bias=1.0)\n",
    "        #initial_state = lstm_cells.zero_state(tf.shape(X)[0], tf.float32)\n",
    "        lstm_cells = rnn_cell.MultiRNNCell([basic_cells] * n_layers, state_is_tuple=True)\n",
    "    else:\n",
    "        # Define a lstm cell with tensorflow\n",
    "        #lstm_cells = rnn_cell.BasicLSTMCell(n_cells, state_is_tuple=True, forget_bias=1.0)\n",
    "        #initial_state = lstm_cells.zero_state(tf.shape(x)[0], tf.float32)\n",
    "        #code from MLTutorials\n",
    "        init = tf.random_normal_initializer(stddev=0.05)\n",
    "        lstm_cells = tf.nn.rnn_cell.LSTMCell(n_cells, initializer=init, state_is_tuple=True)\n",
    "    # Get lstm cell output\n",
    "    outputs, states = rnn.rnn(lstm_cells, x, dtype=tf.float32)\n",
    "\n",
    "    # Linear activation, using rnn inner loop last output\n",
    "    return tf.matmul(outputs[-1], weights['out']) + biases['out']\n",
    "\n",
    "pred = RNN(X, weights, biases)\n",
    "\n",
    "# Define loss and optimizer\n",
    "loss = tf.squared_difference(pred,Y) #pred & Y & loss are [Batch_size, sequence_length]\n",
    "mySum= tf.reduce_sum(loss, 1) # sum is [sequence_length]\n",
    "cost = tf.reduce_mean(mySum)\n",
    "optimizer = tf.train.AdamOptimizer(learning_rate).minimize(cost)\n",
    "\n",
    "# Evaluate model\n",
    "#correct_pred = tf.equal(tf.argmax(pred,1), tf.argmax(Y,1))\n",
    "#accuracy = tf.reduce_mean(tf.cast(correct_pred, tf.float32))\n",
    "\n",
    "# Initializing the variables\n",
    "init = tf.initialize_all_variables()"
   ]
  },
  {
   "cell_type": "code",
   "execution_count": 57,
   "metadata": {
    "collapsed": false
   },
   "outputs": [],
   "source": [
    "batch_x, batch_y = next(ds.train.next_batch())\n"
   ]
  },
  {
   "cell_type": "code",
   "execution_count": 64,
   "metadata": {
    "collapsed": false
   },
   "outputs": [
    {
     "name": "stdout",
     "output_type": "stream",
     "text": [
      "(100, 60, 40)\n",
      "<bound method Tensor.get_shape of <tf.Tensor 'transpose_5:0' shape=(60, 100, 40) dtype=float32>>\n",
      "<bound method Tensor.get_shape of <tf.Tensor 'Reshape_3:0' shape=(6000, 40) dtype=float32>>\n",
      "(60,)\n"
     ]
    }
   ],
   "source": [
    "#check RNN inputs\n",
    "print(batch_x.shape)\n",
    "x = tf.transpose(batch_x, [1, 0, 2])\n",
    "print(x.get_shape)\n",
    "x = tf.reshape(x, [-1, n_inputs])\n",
    "print(x.get_shape)\n",
    "x = tf.split(0, sequence_length, x)\n",
    "print(np.array(x).shape)"
   ]
  },
  {
   "cell_type": "code",
   "execution_count": 68,
   "metadata": {
    "collapsed": false
   },
   "outputs": [
    {
     "data": {
      "text/plain": [
       "<bound method Tensor.get_shape of <tf.Tensor 'split_2:59' shape=(100, 40) dtype=float32>>"
      ]
     },
     "execution_count": 68,
     "metadata": {},
     "output_type": "execute_result"
    }
   ],
   "source": [
    "x[59].get_shape"
   ]
  },
  {
   "cell_type": "code",
   "execution_count": 13,
   "metadata": {
    "collapsed": true
   },
   "outputs": [],
   "source": [
    "# Launch the graph\n",
    "#with tf.Session() as sess:\n",
    "sess = tf.Session()\n",
    "sess.run(tf.initialize_all_variables())"
   ]
  },
  {
   "cell_type": "code",
   "execution_count": 42,
   "metadata": {
    "collapsed": false
   },
   "outputs": [
    {
     "name": "stdout",
     "output_type": "stream",
     "text": [
      "Step: 1 :Training cost:  0.612451016903\n",
      "Step: 2 :Training cost:  0.636722654104\n",
      "Step: 3 :Training cost:  0.635570764542\n",
      "Step: 4 :Training cost:  0.643176347017\n",
      "Step: 5 :Training cost:  0.633791828156\n",
      "Step: 6 :Training cost:  0.646879514058\n",
      "Step: 7 :Training cost:  0.64878812858\n",
      "Step: 8 :Training cost:  0.655042953789\n",
      "Step: 9 :Training cost:  0.657987236977\n",
      "Step: 10 :Training cost:  0.661495411396\n",
      "Step: 11 :Training cost:  0.662796009671\n",
      "Step: 12 :Training cost:  0.668627729019\n",
      "Step: 13 :Training cost:  0.671974159204\n",
      "Step: 14 :Training cost:  0.662379277604\n",
      "Step: 15 :Training cost:  0.671244804064\n",
      "Step: 16 :Training cost:  0.666977692395\n",
      "Step: 17 :Training cost:  0.672315688694\n",
      "Step: 18 :Training cost:  0.670301523474\n",
      "Step: 19 :Training cost:  0.664396169939\n",
      "Step: 20 :Training cost:  0.658788752556\n",
      "Step: 21 :Training cost:  0.660879992303\n",
      "Step: 22 :Training cost:  0.661997377872\n",
      "Step: 23 :Training cost:  0.654987187489\n",
      "Step: 24 :Training cost:  0.650218586127\n",
      "Step: 25 :Training cost:  0.64654984951\n",
      "Step: 26 :Training cost:  0.643728698675\n",
      "Step: 27 :Training cost:  0.644767057013\n",
      "Step: 28 :Training cost:  0.640259902392\n",
      "Step: 29 :Training cost:  0.636839930353\n",
      "Step: 30 :Training cost:  0.63636303544\n",
      "Step: 31 :Training cost:  0.638040648353\n",
      "Step: 32 :Training cost:  0.637702228501\n",
      "Step: 33 :Training cost:  0.639594769839\n",
      "Step: 34 :Training cost:  0.636712822844\n",
      "Step: 35 :Training cost:  0.635697887625\n",
      "Step: 36 :Training cost:  0.632646040784\n",
      "Step: 37 :Training cost:  0.632840114671\n",
      "Step: 38 :Training cost:  0.635081633141\n",
      "Step: 39 :Training cost:  0.632845832751\n",
      "Step: 40 :Training cost:  0.63290990293\n",
      "Step: 41 :Training cost:  0.634088955274\n",
      "Step: 42 :Training cost:  0.631753901641\n",
      "Step: 43 :Training cost:  0.630405388599\n",
      "Step: 44 :Training cost:  0.628479208459\n",
      "Step: 45 :Training cost:  0.627008959982\n",
      "Step: 46 :Training cost:  0.626271544591\n",
      "Step: 47 :Training cost:  0.632135954309\n",
      "Step: 48 :Training cost:  0.634671945125\n",
      "Step: 49 :Training cost:  0.634177025484\n",
      "Step: 50 :Training cost:  0.634750647545\n",
      "Step: 51 :Training cost:  0.635263648688\n",
      "Step: 52 :Training cost:  0.633896150268\n",
      "Step: 53 :Training cost:  0.631455144792\n",
      "Step: 54 :Training cost:  0.63215192159\n",
      "Step: 55 :Training cost:  0.633801264113\n",
      "Step: 56 :Training cost:  0.63220522872\n",
      "Step: 57 :Training cost:  0.632507196644\n",
      "Step: 58 :Training cost:  0.63152777121\n",
      "Step: 59 :Training cost:  0.637581537336\n",
      "Step: 60 :Training cost:  0.637384636203\n",
      "Step: 61 :Training cost:  0.641173838592\n",
      "Step: 62 :Training cost:  0.645921487962\n",
      "Step: 63 :Training cost:  0.644049936817\n",
      "Step: 64 :Training cost:  0.644286825322\n",
      "Step: 65 :Training cost:  0.644148407533\n",
      "Step: 66 :Training cost:  0.646907656482\n",
      "Step: 67 :Training cost:  0.646589712421\n",
      "Step: 68 :Training cost:  0.648323729634\n",
      "Step: 69 :Training cost:  0.645779758692\n",
      "Step: 70 :Training cost:  0.650515597633\n",
      "Step: 71 :Training cost:  0.649557461621\n",
      "Step: 72 :Training cost:  0.65317670794\n",
      "Step: 73 :Training cost:  0.651441812107\n",
      "Step: 74 :Training cost:  0.650610790462\n",
      "Step: 75 :Training cost:  0.651469860474\n",
      "Step: 76 :Training cost:  0.651564171832\n",
      "Step: 77 :Training cost:  0.651150052811\n",
      "Step: 78 :Training cost:  0.653856653816\n",
      "Step: 79 :Training cost:  0.653753145963\n",
      "Step: 80 :Training cost:  0.654021525756\n",
      "Step: 81 :Training cost:  0.653641816643\n",
      "Step: 82 :Training cost:  0.655745002191\n",
      "Step: 83 :Training cost:  0.654675540077\n",
      "Step: 84 :Training cost:  0.654067393215\n",
      "Step: 85 :Training cost:  0.652682217079\n",
      "Step: 86 :Training cost:  0.654435009804\n",
      "Step: 87 :Training cost:  0.654125884004\n",
      "Step: 88 :Training cost:  0.655883475799\n",
      "Step: 89 :Training cost:  0.655784749248\n",
      "Step: 90 :Training cost:  0.655767663651\n",
      "Step: 91 :Training cost:  0.654096645641\n",
      "Step: 92 :Training cost:  0.655495987962\n",
      "Step: 93 :Training cost:  0.658268114251\n",
      "Step: 94 :Training cost:  0.658402688643\n",
      "Step: 95 :Training cost:  0.658695119619\n",
      "Step: 96 :Training cost:  0.659635801179\n",
      "Step: 97 :Training cost:  0.658855473565\n",
      "Step: 98 :Training cost:  0.659635815389\n",
      "Step: 99 :Training cost:  0.658633730929\n",
      "Step: 100 :Training cost:  0.661596241295\n",
      "Step: 101 :Training cost:  0.661285606646\n",
      "Step: 102 :Training cost:  0.660887423976\n",
      "Step: 103 :Training cost:  0.660403989762\n",
      "Step: 104 :Training cost:  0.660844708005\n",
      "Step: 105 :Training cost:  0.661550454582\n",
      "Step: 106 :Training cost:  0.661235408119\n",
      "Step: 107 :Training cost:  0.660875921216\n",
      "Step: 108 :Training cost:  0.662331227627\n",
      "Step: 109 :Training cost:  0.660445132113\n",
      "Step: 110 :Training cost:  0.660973642902\n",
      "Step: 111 :Training cost:  0.660737077127\n",
      "Step: 112 :Training cost:  0.65995819574\n",
      "Step: 113 :Training cost:  0.661109296358\n",
      "Step: 114 :Training cost:  0.661037812892\n",
      "Step: 115 :Training cost:  0.661129756337\n",
      "Step: 116 :Training cost:  0.659529396943\n",
      "Step: 117 :Training cost:  0.659812862292\n",
      "Step: 118 :Training cost:  0.660912205355\n",
      "Step: 119 :Training cost:  0.661309592113\n",
      "Step: 120 :Training cost:  0.661068687588\n",
      "Step: 121 :Training cost:  0.660365865989\n",
      "Step: 122 :Training cost:  0.659443936143\n",
      "Step: 123 :Training cost:  0.659873704358\n",
      "Step: 124 :Training cost:  0.660525112623\n",
      "Step: 125 :Training cost:  0.66196793437\n",
      "Step: 126 :Training cost:  0.661888459136\n",
      "Step: 127 :Training cost:  0.662045858742\n",
      "Step: 128 :Training cost:  0.661127018044\n",
      "Step: 129 :Training cost:  0.66024536703\n",
      "Step: 130 :Training cost:  0.659165659547\n",
      "Step: 131 :Training cost:  0.658472192424\n",
      "Step: 132 :Training cost:  0.657795851204\n",
      "Step: 133 :Training cost:  0.658791602778\n",
      "Step: 134 :Training cost:  0.658174712044\n",
      "Step: 135 :Training cost:  0.658963511388\n",
      "Step: 136 :Training cost:  0.658642550821\n",
      "Step: 137 :Training cost:  0.659133679023\n",
      "Step: 138 :Training cost:  0.658920087892\n",
      "Step: 139 :Training cost:  0.658746629096\n",
      "Step: 140 :Training cost:  0.658319139268\n",
      "Step: 141 :Training cost:  0.658324440532\n",
      "Step: 142 :Training cost:  0.658229007897\n",
      "Step: 143 :Training cost:  0.657231829175\n",
      "Step: 144 :Training cost:  0.656779650392\n",
      "Step: 145 :Training cost:  0.655616740523\n",
      "Step: 146 :Training cost:  0.654381710985\n",
      "Step: 147 :Training cost:  0.653343465661\n",
      "Step: 148 :Training cost:  0.653597757824\n",
      "Step: 149 :Training cost:  0.654100094266\n",
      "Step: 150 :Training cost:  0.653334097266\n",
      "Step: 151 :Training cost:  0.654146944253\n",
      "Step: 152 :Training cost:  0.653769320367\n",
      "Step: 153 :Training cost:  0.653926562445\n",
      "Step: 154 :Training cost:  0.653474077969\n",
      "Step: 155 :Training cost:  0.654747442853\n",
      "Step: 156 :Training cost:  0.655924492348\n",
      "Step: 157 :Training cost:  0.656628478674\n",
      "Step: 158 :Training cost:  0.657771712051\n",
      "Step: 159 :Training cost:  0.657733756229\n",
      "Step: 160 :Training cost:  0.657227866165\n",
      "Step: 161 :Training cost:  0.657394701465\n",
      "Step: 162 :Training cost:  0.658873815043\n",
      "Step: 163 :Training cost:  0.659715986142\n",
      "Step: 164 :Training cost:  0.659231793045\n",
      "Step: 165 :Training cost:  0.65907814882\n",
      "Step: 166 :Training cost:  0.659653583384\n",
      "Step: 167 :Training cost:  0.659643124499\n",
      "Step: 168 :Training cost:  0.659675307749\n",
      "Step: 169 :Training cost:  0.660481890101\n",
      "Step: 170 :Training cost:  0.661139928769\n",
      "Step: 171 :Training cost:  0.661396485846\n",
      "Step: 172 :Training cost:  0.660683750933\n",
      "Step: 173 :Training cost:  0.661127267029\n",
      "Step: 174 :Training cost:  0.66132668774\n",
      "Step: 175 :Training cost:  0.661806993655\n",
      "Step: 176 :Training cost:  0.661740885709\n",
      "Step: 177 :Training cost:  0.660997117812\n",
      "Step: 178 :Training cost:  0.660128730234\n",
      "Step: 179 :Training cost:  0.662214244045\n",
      "Step: 180 :Training cost:  0.66300655057\n",
      "Step: 181 :Training cost:  0.663514675192\n",
      "Step: 182 :Training cost:  0.662367517477\n",
      "Step: 183 :Training cost:  0.664316277035\n",
      "Step: 184 :Training cost:  0.665375464636\n",
      "Step: 185 :Training cost:  0.666311630687\n",
      "Step: 186 :Training cost:  0.666413050826\n",
      "Step: 187 :Training cost:  0.666006908697\n",
      "Step: 188 :Training cost:  0.665627469408\n",
      "Step: 189 :Training cost:  0.66757709261\n",
      "Step: 190 :Training cost:  0.668331654762\n",
      "Step: 191 :Training cost:  0.669472602025\n",
      "Step: 192 :Training cost:  0.669534268479\n",
      "Step: 193 :Training cost:  0.669895312947\n",
      "Step: 194 :Training cost:  0.670896736617\n",
      "Step: 195 :Training cost:  0.669974536621\n",
      "Step: 196 :Training cost:  0.669623938902\n",
      "Step: 197 :Training cost:  0.67028303936\n",
      "Step: 198 :Training cost:  0.671152538272\n",
      "Step: 199 :Training cost:  0.670781783872\n",
      "Step: 200 :Training cost:  0.670560541302\n",
      "Step: 201 :Training cost:  0.671105895321\n",
      "Step: 202 :Training cost:  0.671434743717\n",
      "Step: 203 :Training cost:  0.672666388339\n",
      "Step: 204 :Training cost:  0.673401575901\n",
      "Step: 205 :Training cost:  0.673195805055\n",
      "Step: 206 :Training cost:  0.673735274997\n",
      "Step: 207 :Training cost:  0.674087772479\n",
      "Step: 208 :Training cost:  0.673978199323\n",
      "Step: 209 :Training cost:  0.674034337535\n",
      "Step: 210 :Training cost:  0.67324486389\n",
      "Step: 211 :Training cost:  0.67349074223\n",
      "Step: 212 :Training cost:  0.674113162987\n",
      "Step: 213 :Training cost:  0.673421848128\n",
      "Step: 214 :Training cost:  0.673577585928\n",
      "Step: 215 :Training cost:  0.674556422927\n",
      "Step: 216 :Training cost:  0.674999917961\n",
      "Step: 217 :Training cost:  0.674777920757\n",
      "Step: 218 :Training cost:  0.674461935775\n",
      "Step: 219 :Training cost:  0.673550988169\n",
      "Step: 220 :Training cost:  0.673389166323\n",
      "Step: 221 :Training cost:  0.67299887039\n",
      "Step: 222 :Training cost:  0.672417335951\n",
      "Step: 223 :Training cost:  0.672981588295\n",
      "Step: 224 :Training cost:  0.672877244917\n",
      "Step: 225 :Training cost:  0.672661175728\n",
      "Step: 226 :Training cost:  0.672775029609\n",
      "Step: 227 :Training cost:  0.672635929963\n",
      "Step: 228 :Training cost:  0.671721341317\n",
      "Step: 229 :Training cost:  0.671081485446\n",
      "Step: 230 :Training cost:  0.670909240453\n",
      "Step: 231 :Training cost:  0.670736365762\n",
      "Step: 232 :Training cost:  0.670788191773\n",
      "Step: 233 :Training cost:  0.670792173163\n"
     ]
    },
    {
     "ename": "KeyboardInterrupt",
     "evalue": "",
     "output_type": "error",
     "traceback": [
      "\u001b[0;31m---------------------------------------------------------------------------\u001b[0m",
      "\u001b[0;31mKeyboardInterrupt\u001b[0m                         Traceback (most recent call last)",
      "\u001b[0;32m<ipython-input-42-fbd514d509ce>\u001b[0m in \u001b[0;36m<module>\u001b[0;34m()\u001b[0m\n\u001b[1;32m      5\u001b[0m \u001b[0;31m# Keep training until reach max iterations\u001b[0m\u001b[0;34m\u001b[0m\u001b[0;34m\u001b[0m\u001b[0m\n\u001b[1;32m      6\u001b[0m \u001b[0;32mwhile\u001b[0m \u001b[0mstep\u001b[0m \u001b[0;34m*\u001b[0m \u001b[0mbatch_size\u001b[0m \u001b[0;34m<\u001b[0m \u001b[0mtraining_iters\u001b[0m\u001b[0;34m:\u001b[0m\u001b[0;34m\u001b[0m\u001b[0m\n\u001b[0;32m----> 7\u001b[0;31m     \u001b[0mbatch_x\u001b[0m\u001b[0;34m,\u001b[0m \u001b[0mbatch_y\u001b[0m \u001b[0;34m=\u001b[0m \u001b[0mnext\u001b[0m\u001b[0;34m(\u001b[0m\u001b[0mds\u001b[0m\u001b[0;34m.\u001b[0m\u001b[0mtrain\u001b[0m\u001b[0;34m.\u001b[0m\u001b[0mnext_batch\u001b[0m\u001b[0;34m(\u001b[0m\u001b[0;34m)\u001b[0m\u001b[0;34m)\u001b[0m\u001b[0;34m\u001b[0m\u001b[0m\n\u001b[0m\u001b[1;32m      8\u001b[0m     \u001b[0;31m# Reshape data to get 28 seq of 28 elements\u001b[0m\u001b[0;34m\u001b[0m\u001b[0;34m\u001b[0m\u001b[0m\n\u001b[1;32m      9\u001b[0m     \u001b[0;31m#batch_x = batch_x.reshape((batch_size, sequence_length, n_inputs))\u001b[0m\u001b[0;34m\u001b[0m\u001b[0;34m\u001b[0m\u001b[0m\n",
      "\u001b[0;32m/Users/alfonso/code/violinDemos/TFModels/libs/dataset_utils.py\u001b[0m in \u001b[0;36mtrain\u001b[0;34m(self)\u001b[0m\n\u001b[1;32m    449\u001b[0m             \u001b[0mSplit\u001b[0m \u001b[0mof\u001b[0m \u001b[0mthe\u001b[0m \u001b[0mtrain\u001b[0m \u001b[0mdataset\u001b[0m\u001b[0;34m.\u001b[0m\u001b[0;34m\u001b[0m\u001b[0m\n\u001b[1;32m    450\u001b[0m         \"\"\"\n\u001b[0;32m--> 451\u001b[0;31m         \u001b[0minputs\u001b[0m \u001b[0;34m=\u001b[0m \u001b[0mself\u001b[0m\u001b[0;34m.\u001b[0m\u001b[0mall_inputs\u001b[0m\u001b[0;34m[\u001b[0m\u001b[0mself\u001b[0m\u001b[0;34m.\u001b[0m\u001b[0mtrain_idxs\u001b[0m\u001b[0;34m,\u001b[0m \u001b[0;34m...\u001b[0m\u001b[0;34m]\u001b[0m\u001b[0;34m\u001b[0m\u001b[0m\n\u001b[0m\u001b[1;32m    452\u001b[0m         \u001b[0;32mif\u001b[0m \u001b[0mself\u001b[0m\u001b[0;34m.\u001b[0m\u001b[0mall_labels\u001b[0m \u001b[0;32mis\u001b[0m \u001b[0;32mnot\u001b[0m \u001b[0;32mNone\u001b[0m\u001b[0;34m:\u001b[0m\u001b[0;34m\u001b[0m\u001b[0m\n\u001b[1;32m    453\u001b[0m            \u001b[0;31m# pdb.set_trace()\u001b[0m\u001b[0;34m\u001b[0m\u001b[0;34m\u001b[0m\u001b[0m\n",
      "\u001b[0;31mKeyboardInterrupt\u001b[0m: "
     ]
    }
   ],
   "source": [
    "step = 1\n",
    "# Train\n",
    "this_cost = 0\n",
    "its = 0\n",
    "# Keep training until reach max iterations\n",
    "while step * batch_size < training_iters:\n",
    "    batch_x, batch_y = next(ds.train.next_batch())\n",
    "    # Reshape data to get 28 seq of 28 elements\n",
    "    #batch_x = batch_x.reshape((batch_size, sequence_length, n_inputs))\n",
    "    # Run optimization op (backprop)\n",
    "    this_cost +=sess.run([cost, optimizer], feed_dict={X: batch_x, Y: batch_y})[0]\n",
    "    its += 1\n",
    "    #if step % display_step == 0:\n",
    "    print('Step:', step, ':Training cost: ', this_cost / its)\n",
    "    #    # Calculate batch accuracy\n",
    "    #    acc = sess.run(accuracy, feed_dict={X: batch_x, Y: batch_y})\n",
    "    #    # Calculate batch loss\n",
    "    #    loss = sess.run(cost, feed_dict={X: batch_x, Y: batch_y})\n",
    "    #    print(\"Iter \" + str(step*batch_size) + \", Minibatch Loss= \" + \\\n",
    "    #          \"{:.6f}\".format(loss) + \", Training Accuracy= \" + \\\n",
    "    #          \"{:.5f}\".format(acc))\n",
    "    step += 1\n",
    "\n",
    "print(\"Optimization Finished!\")\n",
    "\n",
    "# Calculate accuracy for 128 mnist test images\n",
    "#test_len = 128\n",
    "#test_data = mnist.test.images[:test_len].reshape((-1, n_steps, n_input))\n",
    "#test_label = mnist.test.labels[:test_len]\n",
    "#print(\"Testing Accuracy:\", \\\n",
    "#    sess.run(accuracy, feed_dict={X: test_data, Y: test_label}))"
   ]
  },
  {
   "cell_type": "code",
   "execution_count": 43,
   "metadata": {
    "collapsed": false
   },
   "outputs": [],
   "source": [
    "nBatches=22\n",
    "Xs_i=np.zeros(shape=(nBatches,windowSize,40))\n",
    "ys_i=np.zeros(shape=(nBatches,windowSize))\n",
    "for i in range(nBatches):\n",
    "    Xs_i[i,:,:]=energyBand[:,i*windowSize:i*windowSize+windowSize].T\n",
    "    ys_i[i,:]=target[i*windowSize:i*windowSize+windowSize]"
   ]
  },
  {
   "cell_type": "code",
   "execution_count": 44,
   "metadata": {
    "collapsed": false
   },
   "outputs": [],
   "source": [
    "prediction=sess.run([pred], feed_dict={X:Xs_i, Y:ys_i})[0]\n",
    "linPrediction = np.reshape(prediction, (np.product(prediction.shape)))\n",
    "linOriginal = np.reshape(ys_i, (np.product(ys_i.shape)))"
   ]
  },
  {
   "cell_type": "code",
   "execution_count": 45,
   "metadata": {
    "collapsed": false
   },
   "outputs": [
    {
     "data": {
      "text/plain": [
       "[<matplotlib.lines.Line2D at 0x12eacb208>]"
      ]
     },
     "execution_count": 45,
     "metadata": {},
     "output_type": "execute_result"
    },
    {
     "data": {
      "image/png": "[encoded data removed]",
      "text/plain": [
       "<matplotlib.figure.Figure at 0x12eacbfd0>"
      ]
     },
     "metadata": {},
     "output_type": "display_data"
    }
   ],
   "source": [
    "plt.plot(linOriginal)\n",
    "plt.plot(linPrediction)"
   ]
  },
  {
   "cell_type": "code",
   "execution_count": 29,
   "metadata": {
    "collapsed": false
   },
   "outputs": [],
   "source": [
    "Xs_i, ys_i = next(ds.train.next_batch())\n",
    "prediction=sess.run([pred], feed_dict={X:Xs_i, Y:ys_i})[0]\n",
    "the_loss=sess.run([loss], feed_dict={X:Xs_i, Y:ys_i})[0]\n",
    "the_sum=sess.run([mySum], feed_dict={X:Xs_i, Y:ys_i})[0]\n",
    "the_cost=sess.run([cost], feed_dict={X:Xs_i, Y:ys_i})[0]"
   ]
  },
  {
   "cell_type": "code",
   "execution_count": 30,
   "metadata": {
    "collapsed": false
   },
   "outputs": [
    {
     "data": {
      "text/plain": [
       "(0, 1)"
      ]
     },
     "execution_count": 30,
     "metadata": {},
     "output_type": "execute_result"
    },
    {
     "data": {
      "image/png": "[encoded data removed]",
      "text/plain": [
       "<matplotlib.figure.Figure at 0x12df7b240>"
      ]
     },
     "metadata": {},
     "output_type": "display_data"
    }
   ],
   "source": [
    "i=10\n",
    "plt.plot(ys_i[i,:])\n",
    "plt.plot(prediction[i,:])\n",
    "plt.plot(the_loss[i,:])\n",
    "#plt.plot(the_cost)\n",
    "plt.ylim((0, 1))"
   ]
  },
  {
   "cell_type": "code",
   "execution_count": null,
   "metadata": {
    "collapsed": false
   },
   "outputs": [],
   "source": [
    "loss"
   ]
  },
  {
   "cell_type": "code",
   "execution_count": null,
   "metadata": {
    "collapsed": false
   },
   "outputs": [],
   "source": [
    "plt.plot(the_sum/18)"
   ]
  },
  {
   "cell_type": "code",
   "execution_count": null,
   "metadata": {
    "collapsed": false
   },
   "outputs": [],
   "source": [
    "np.mean(the_sum)"
   ]
  },
  {
   "cell_type": "code",
   "execution_count": null,
   "metadata": {
    "collapsed": false
   },
   "outputs": [],
   "source": [
    "the_cost"
   ]
  },
  {
   "cell_type": "code",
   "execution_count": null,
   "metadata": {
    "collapsed": false
   },
   "outputs": [],
   "source": [
    "0.7/18"
   ]
  },
  {
   "cell_type": "code",
   "execution_count": null,
   "metadata": {
    "collapsed": true
   },
   "outputs": [],
   "source": []
  }
 ],
 "metadata": {
  "kernelspec": {
   "display_name": "Python 3",
   "language": "python",
   "name": "python3"
  },
  "language_info": {
   "codemirror_mode": {
    "name": "ipython",
    "version": 3
   },
   "file_extension": ".py",
   "mimetype": "text/x-python",
   "name": "python",
   "nbconvert_exporter": "python",
   "pygments_lexer": "ipython3",
   "version": "3.5.2"
  }
 },
 "nbformat": 4,
 "nbformat_minor": 0
}
